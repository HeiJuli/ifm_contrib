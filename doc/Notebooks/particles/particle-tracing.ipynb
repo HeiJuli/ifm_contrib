{
 "cells": [
  {
   "cell_type": "code",
   "execution_count": 1,
   "metadata": {
    "ExecuteTime": {
     "end_time": "2021-09-28T21:50:56.853715Z",
     "start_time": "2021-09-28T21:50:52.645390Z"
    }
   },
   "outputs": [
    {
     "name": "stdout",
     "output_type": "stream",
     "text": [
      "This is FEFLOW 7.460 (build 19524).\n"
     ]
    }
   ],
   "source": [
    "import os\n",
    "import sys\n",
    "from datetime import datetime, timedelta\n",
    "\n",
    "import numpy as np\n",
    "import pandas as pd\n",
    "import geopandas as gpd\n",
    "import matplotlib.pyplot as plt\n",
    "\n",
    "import ipywidgets as widgets\n",
    "from IPython.display import display\n",
    "\n",
    "os.environ[\"FEFLOW_KERNEL_VERSION\"] = \"75\"  # use the FEFLOW 7.4 API\n",
    "import ifm_contrib as ifm  # ifm_contrib is code compatible with ifm.\n",
    "\n",
    "print(f\"This is FEFLOW {(ifm.getKernelVersion()/1000):.3f} (build {ifm.getKernelRevision()}).\")"
   ]
  },
  {
   "cell_type": "code",
   "execution_count": 2,
   "metadata": {
    "ExecuteTime": {
     "end_time": "2021-09-28T21:50:56.869717Z",
     "start_time": "2021-09-28T21:50:56.856738Z"
    }
   },
   "outputs": [],
   "source": [
    "ifm.forceLicense(\"Viewer\")"
   ]
  },
  {
   "cell_type": "code",
   "execution_count": 3,
   "metadata": {
    "ExecuteTime": {
     "end_time": "2021-09-28T21:50:57.041719Z",
     "start_time": "2021-09-28T21:50:56.872717Z"
    }
   },
   "outputs": [],
   "source": [
    "# confined version\n",
    "doc = ifm.loadDocument(\"../../../unittests/models/results/benchmark_pathlines1D_2Dconf.dac\")\n",
    "#doc = ifm.loadDocument(\"../../../unittests/results/benchmark_pathlines1D_2Dunconf.dac\")\n",
    "#doc = ifm.loadDocument(\"../../../unittests/results/benchmark_pathlines1D_3Dconf.dac\")"
   ]
  },
  {
   "cell_type": "code",
   "execution_count": 4,
   "metadata": {
    "ExecuteTime": {
     "end_time": "2021-09-28T21:50:57.057721Z",
     "start_time": "2021-09-28T21:50:57.044733Z"
    }
   },
   "outputs": [],
   "source": [
    "#doc.loadTimeStep(0)"
   ]
  },
  {
   "cell_type": "markdown",
   "metadata": {},
   "source": [
    "## Particle Tracking Feature\n",
    "\n",
    "ifm_contrib extends the particle tracking feauture:\n",
    "+ Particle is provided as DataFrame (not as list as in ifm_classic)\n",
    "+ adds the simulation DateTime (if Reference Date is set in model)"
   ]
  },
  {
   "cell_type": "code",
   "execution_count": 5,
   "metadata": {
    "ExecuteTime": {
     "end_time": "2021-09-28T21:50:57.590918Z",
     "start_time": "2021-09-28T21:50:57.060720Z"
    }
   },
   "outputs": [
    {
     "data": {
      "image/png": "[encoded data removed]",
      "text/plain": [
       "<Figure size 864x72 with 1 Axes>"
      ]
     },
     "metadata": {
      "needs_background": "light"
     },
     "output_type": "display_data"
    }
   ],
   "source": [
    "# define the seed point and show the model\n",
    "seed_point = (50, 2.5, -10.5)\n",
    "\n",
    "fig, ax1 = plt.subplots(1, figsize=(12,1))\n",
    "\n",
    "doc.c.plot.faces()\n",
    "doc.c.plot.fringes(par=ifm.Enum.P_HEAD)\n",
    "doc.c.mesh.gdf.nodes(par=ifm.Enum.P_BCFLOW_1ST).dropna().plot(ax=ax1)\n",
    "\n",
    "ax1.scatter([seed_point[0]],[seed_point[1]], marker=\"+\", color=\"red\", label=\"seed point for particles\")\n",
    "ax1.legend(loc=\"right\")\n",
    "ax1.set_title(\"model setup\")\n",
    "\n",
    "plt.axis(\"equal\")\n",
    "\n",
    "None"
   ]
  },
  {
   "cell_type": "code",
   "execution_count": 6,
   "metadata": {
    "ExecuteTime": {
     "end_time": "2021-09-28T21:50:57.716913Z",
     "start_time": "2021-09-28T21:50:57.592912Z"
    }
   },
   "outputs": [],
   "source": [
    "# create the PathLine object \n",
    "\n",
    "settings = {\"tracking_mode\" : ifm.Enum.PT_MODE_STEADY,\n",
    "            \"tracking_direction\" : ifm.Enum.PT_DIR_FORWARD,\n",
    "            \"tracking_type\" : ifm.Enum.PT_TYPE_RW}\n",
    "\n",
    "pl = doc.c.particles.particle(seed_point, time_start=datetime(2002, 1, 30), \n",
    "                              forward=True, unsteady=False, random_walk=True)"
   ]
  },
  {
   "cell_type": "code",
   "execution_count": 7,
   "metadata": {
    "ExecuteTime": {
     "end_time": "2021-09-28T21:50:57.748912Z",
     "start_time": "2021-09-28T21:50:57.719928Z"
    }
   },
   "outputs": [
    {
     "data": {
      "text/html": [
       "<div>\n",
       "<style scoped>\n",
       "    .dataframe tbody tr th:only-of-type {\n",
       "        vertical-align: middle;\n",
       "    }\n",
       "\n",
       "    .dataframe tbody tr th {\n",
       "        vertical-align: top;\n",
       "    }\n",
       "\n",
       "    .dataframe thead th {\n",
       "        text-align: right;\n",
       "    }\n",
       "</style>\n",
       "<table border=\"1\" class=\"dataframe\">\n",
       "  <thead>\n",
       "    <tr style=\"text-align: right;\">\n",
       "      <th></th>\n",
       "      <th>x</th>\n",
       "      <th>y</th>\n",
       "      <th>tau</th>\n",
       "      <th>z</th>\n",
       "      <th>sim_time</th>\n",
       "      <th>calendar</th>\n",
       "      <th>geometry</th>\n",
       "    </tr>\n",
       "  </thead>\n",
       "  <tbody>\n",
       "    <tr>\n",
       "      <th>0</th>\n",
       "      <td>50.00000</td>\n",
       "      <td>2.500000</td>\n",
       "      <td>0.000000</td>\n",
       "      <td>None</td>\n",
       "      <td>760.000977</td>\n",
       "      <td>2002-01-30 00:01:24.375000</td>\n",
       "      <td>POINT (50.00000 2.50000)</td>\n",
       "    </tr>\n",
       "    <tr>\n",
       "      <th>1</th>\n",
       "      <td>49.64539</td>\n",
       "      <td>2.560303</td>\n",
       "      <td>0.926381</td>\n",
       "      <td>None</td>\n",
       "      <td>760.927358</td>\n",
       "      <td>2002-01-30 22:15:23.717913</td>\n",
       "      <td>POINT (49.64539 2.56030)</td>\n",
       "    </tr>\n",
       "    <tr>\n",
       "      <th>2</th>\n",
       "      <td>50.35461</td>\n",
       "      <td>2.402286</td>\n",
       "      <td>2.648652</td>\n",
       "      <td>None</td>\n",
       "      <td>762.649629</td>\n",
       "      <td>2002-02-01 15:35:27.916167</td>\n",
       "      <td>POINT (50.35461 2.40229)</td>\n",
       "    </tr>\n",
       "    <tr>\n",
       "      <th>3</th>\n",
       "      <td>50.35461</td>\n",
       "      <td>2.334315</td>\n",
       "      <td>7.900785</td>\n",
       "      <td>None</td>\n",
       "      <td>767.901762</td>\n",
       "      <td>2002-02-06 21:38:32.209042</td>\n",
       "      <td>POINT (50.35461 2.33432)</td>\n",
       "    </tr>\n",
       "    <tr>\n",
       "      <th>4</th>\n",
       "      <td>50.60808</td>\n",
       "      <td>2.142857</td>\n",
       "      <td>11.338590</td>\n",
       "      <td>None</td>\n",
       "      <td>771.339567</td>\n",
       "      <td>2002-02-10 08:08:58.551822</td>\n",
       "      <td>POINT (50.60808 2.14286)</td>\n",
       "    </tr>\n",
       "  </tbody>\n",
       "</table>\n",
       "</div>"
      ],
      "text/plain": [
       "          x         y        tau     z    sim_time                   calendar  \\\n",
       "0  50.00000  2.500000   0.000000  None  760.000977 2002-01-30 00:01:24.375000   \n",
       "1  49.64539  2.560303   0.926381  None  760.927358 2002-01-30 22:15:23.717913   \n",
       "2  50.35461  2.402286   2.648652  None  762.649629 2002-02-01 15:35:27.916167   \n",
       "3  50.35461  2.334315   7.900785  None  767.901762 2002-02-06 21:38:32.209042   \n",
       "4  50.60808  2.142857  11.338590  None  771.339567 2002-02-10 08:08:58.551822   \n",
       "\n",
       "                   geometry  \n",
       "0  POINT (50.00000 2.50000)  \n",
       "1  POINT (49.64539 2.56030)  \n",
       "2  POINT (50.35461 2.40229)  \n",
       "3  POINT (50.35461 2.33432)  \n",
       "4  POINT (50.60808 2.14286)  "
      ]
     },
     "execution_count": 7,
     "metadata": {},
     "output_type": "execute_result"
    }
   ],
   "source": [
    "# show as table\n",
    "pl.df.head()"
   ]
  },
  {
   "cell_type": "code",
   "execution_count": 8,
   "metadata": {
    "ExecuteTime": {
     "end_time": "2021-09-28T21:50:58.252634Z",
     "start_time": "2021-09-28T21:50:57.751927Z"
    }
   },
   "outputs": [
    {
     "data": {
      "image/png": "[encoded data removed]",
      "text/plain": [
       "<Figure size 864x72 with 1 Axes>"
      ]
     },
     "metadata": {
      "needs_background": "light"
     },
     "output_type": "display_data"
    }
   ],
   "source": [
    "# visualize it \n",
    "fig, ax1 = plt.subplots(1, figsize=(12,1))\n",
    "doc.c.plot.faces()\n",
    "doc.c.plot.fringes(par=ifm.Enum.P_HEAD)\n",
    "doc.c.mesh.gdf.nodes(par=ifm.Enum.P_BCFLOW_1ST).dropna().plot(ax=ax1)\n",
    "# plot seed point and trace\n",
    "pl.gdf.plot(ax=ax1, label=\"trace points\", alpha=0.5, color=\"white\")\n",
    "ax1.scatter([seed_point[0]],[seed_point[1]], marker=\"+\", color=\"red\", label=\"seed point for particles\")\n",
    "# figure format\n",
    "ax1.legend(loc=\"right\")\n",
    "ax1.set_title(\"model setup\")\n",
    "plt.axis(\"equal\")\n",
    "None"
   ]
  },
  {
   "cell_type": "markdown",
   "metadata": {},
   "source": [
    "The `get_location_at_time()` method returns the location of the particle at a specific time:"
   ]
  },
  {
   "cell_type": "code",
   "execution_count": 9,
   "metadata": {
    "ExecuteTime": {
     "end_time": "2021-09-28T21:50:58.299636Z",
     "start_time": "2021-09-28T21:50:58.255599Z"
    }
   },
   "outputs": [
    {
     "data": {
      "text/plain": [
       "x           50.3619\n",
       "y           2.32884\n",
       "tau         7.99902\n",
       "z               NaN\n",
       "sim_time        768\n",
       "geometry        NaN\n",
       "Name: 2002-02-07 00:00:00, dtype: object"
      ]
     },
     "execution_count": 9,
     "metadata": {},
     "output_type": "execute_result"
    }
   ],
   "source": [
    "# for a single date a DataSeries is returned\n",
    "pl.get_location_at_time(datetime(2002, 2, 7))"
   ]
  },
  {
   "cell_type": "markdown",
   "metadata": {},
   "source": [
    "if a list of dates is provided, a Geodata is returned. Note that NaN is returned if the time is outside the particles lifetime."
   ]
  },
  {
   "cell_type": "code",
   "execution_count": 10,
   "metadata": {
    "ExecuteTime": {
     "end_time": "2021-09-28T21:50:58.471805Z",
     "start_time": "2021-09-28T21:50:58.301600Z"
    }
   },
   "outputs": [
    {
     "data": {
      "text/html": [
       "<div>\n",
       "<style scoped>\n",
       "    .dataframe tbody tr th:only-of-type {\n",
       "        vertical-align: middle;\n",
       "    }\n",
       "\n",
       "    .dataframe tbody tr th {\n",
       "        vertical-align: top;\n",
       "    }\n",
       "\n",
       "    .dataframe thead th {\n",
       "        text-align: right;\n",
       "    }\n",
       "</style>\n",
       "<table border=\"1\" class=\"dataframe\">\n",
       "  <thead>\n",
       "    <tr style=\"text-align: right;\">\n",
       "      <th></th>\n",
       "      <th>x</th>\n",
       "      <th>y</th>\n",
       "      <th>tau</th>\n",
       "      <th>z</th>\n",
       "      <th>sim_time</th>\n",
       "      <th>geometry</th>\n",
       "    </tr>\n",
       "  </thead>\n",
       "  <tbody>\n",
       "    <tr>\n",
       "      <th>2002-01-15</th>\n",
       "      <td>NaN</td>\n",
       "      <td>NaN</td>\n",
       "      <td>NaN</td>\n",
       "      <td>NaN</td>\n",
       "      <td>NaN</td>\n",
       "      <td>POINT (nan nan)</td>\n",
       "    </tr>\n",
       "    <tr>\n",
       "      <th>2002-04-15</th>\n",
       "      <td>56.013350</td>\n",
       "      <td>0.763937</td>\n",
       "      <td>74.999023</td>\n",
       "      <td>NaN</td>\n",
       "      <td>835.0</td>\n",
       "      <td>POINT (56.013 0.764)</td>\n",
       "    </tr>\n",
       "    <tr>\n",
       "      <th>2002-07-15</th>\n",
       "      <td>57.253079</td>\n",
       "      <td>2.019106</td>\n",
       "      <td>165.999023</td>\n",
       "      <td>NaN</td>\n",
       "      <td>926.0</td>\n",
       "      <td>POINT (57.253 2.019)</td>\n",
       "    </tr>\n",
       "    <tr>\n",
       "      <th>2002-10-15</th>\n",
       "      <td>62.867583</td>\n",
       "      <td>2.718431</td>\n",
       "      <td>257.999023</td>\n",
       "      <td>NaN</td>\n",
       "      <td>1018.0</td>\n",
       "      <td>POINT (62.868 2.718)</td>\n",
       "    </tr>\n",
       "    <tr>\n",
       "      <th>2002-11-15</th>\n",
       "      <td>64.537547</td>\n",
       "      <td>1.830880</td>\n",
       "      <td>288.999023</td>\n",
       "      <td>NaN</td>\n",
       "      <td>1049.0</td>\n",
       "      <td>POINT (64.538 1.831)</td>\n",
       "    </tr>\n",
       "    <tr>\n",
       "      <th>2003-04-15</th>\n",
       "      <td>65.569345</td>\n",
       "      <td>0.713235</td>\n",
       "      <td>439.999023</td>\n",
       "      <td>NaN</td>\n",
       "      <td>1200.0</td>\n",
       "      <td>POINT (65.569 0.713)</td>\n",
       "    </tr>\n",
       "    <tr>\n",
       "      <th>2003-07-15</th>\n",
       "      <td>72.025289</td>\n",
       "      <td>0.157114</td>\n",
       "      <td>530.999023</td>\n",
       "      <td>NaN</td>\n",
       "      <td>1291.0</td>\n",
       "      <td>POINT (72.025 0.157)</td>\n",
       "    </tr>\n",
       "  </tbody>\n",
       "</table>\n",
       "</div>"
      ],
      "text/plain": [
       "                    x         y         tau   z  sim_time  \\\n",
       "2002-01-15        NaN       NaN         NaN NaN       NaN   \n",
       "2002-04-15  56.013350  0.763937   74.999023 NaN     835.0   \n",
       "2002-07-15  57.253079  2.019106  165.999023 NaN     926.0   \n",
       "2002-10-15  62.867583  2.718431  257.999023 NaN    1018.0   \n",
       "2002-11-15  64.537547  1.830880  288.999023 NaN    1049.0   \n",
       "2003-04-15  65.569345  0.713235  439.999023 NaN    1200.0   \n",
       "2003-07-15  72.025289  0.157114  530.999023 NaN    1291.0   \n",
       "\n",
       "                        geometry  \n",
       "2002-01-15       POINT (nan nan)  \n",
       "2002-04-15  POINT (56.013 0.764)  \n",
       "2002-07-15  POINT (57.253 2.019)  \n",
       "2002-10-15  POINT (62.868 2.718)  \n",
       "2002-11-15  POINT (64.538 1.831)  \n",
       "2003-04-15  POINT (65.569 0.713)  \n",
       "2003-07-15  POINT (72.025 0.157)  "
      ]
     },
     "execution_count": 10,
     "metadata": {},
     "output_type": "execute_result"
    }
   ],
   "source": [
    "# get two locations\n",
    "gdf_location = pl.get_location_at_time([datetime(2002, 1, 15),\n",
    "                                        datetime(2002, 4, 15),\n",
    "                                        datetime(2002, 7, 15),\n",
    "                                        datetime(2002, 10, 15),\n",
    "                                        datetime(2002, 11, 15),\n",
    "                                        datetime(2003, 4, 15),\n",
    "                                        datetime(2003, 7, 15)], geodataframe=True)\n",
    "gdf_location"
   ]
  },
  {
   "cell_type": "code",
   "execution_count": 11,
   "metadata": {
    "ExecuteTime": {
     "end_time": "2021-09-28T21:50:58.880167Z",
     "start_time": "2021-09-28T21:50:58.473848Z"
    }
   },
   "outputs": [
    {
     "data": {
      "image/png": "[encoded data removed]",
      "text/plain": [
       "<Figure size 864x72 with 1 Axes>"
      ]
     },
     "metadata": {
      "needs_background": "light"
     },
     "output_type": "display_data"
    }
   ],
   "source": [
    "# visualize it \n",
    "fig, ax1 = plt.subplots(1, figsize=(12,1))\n",
    "doc.c.plot.faces()\n",
    "doc.c.plot.fringes(par=ifm.Enum.P_HEAD)\n",
    "doc.c.mesh.gdf.nodes(par=ifm.Enum.P_BCFLOW_1ST).dropna().plot(ax=ax1)\n",
    "# plot seed point and trace\n",
    "gdf_location.plot(ax=ax1, label=\"partice locations\", alpha=1.0)\n",
    "ax1.scatter([seed_point[0]],[seed_point[1]], marker=\"+\", color=\"red\", label=\"seed point for particles\")\n",
    "# figure format\n",
    "ax1.legend(loc=\"right\")\n",
    "ax1.set_title(\"model setup\")\n",
    "plt.axis(\"equal\")\n",
    "None"
   ]
  },
  {
   "cell_type": "markdown",
   "metadata": {},
   "source": [
    "### Backwards Tracking\n",
    "\n",
    "\n"
   ]
  },
  {
   "cell_type": "code",
   "execution_count": 12,
   "metadata": {
    "ExecuteTime": {
     "end_time": "2021-09-28T21:50:58.959131Z",
     "start_time": "2021-09-28T21:50:58.883144Z"
    }
   },
   "outputs": [],
   "source": [
    "settings = {\"tracking_mode\" : ifm.Enum.PT_MODE_STEADY,\n",
    "            \"tracking_direction\" : ifm.Enum.PT_DIR_BACKWARD,\n",
    "            \"tracking_type\" : ifm.Enum.PT_TYPE_RW}\n",
    "\n",
    "pl = doc.c.particles.particle(seed_point, time_start=datetime(2002, 1, 30), \n",
    "                              forward=False, random_walk=True)"
   ]
  },
  {
   "cell_type": "code",
   "execution_count": 13,
   "metadata": {
    "ExecuteTime": {
     "end_time": "2021-09-28T21:50:58.989133Z",
     "start_time": "2021-09-28T21:50:58.962134Z"
    }
   },
   "outputs": [
    {
     "data": {
      "text/html": [
       "<div>\n",
       "<style scoped>\n",
       "    .dataframe tbody tr th:only-of-type {\n",
       "        vertical-align: middle;\n",
       "    }\n",
       "\n",
       "    .dataframe tbody tr th {\n",
       "        vertical-align: top;\n",
       "    }\n",
       "\n",
       "    .dataframe thead th {\n",
       "        text-align: right;\n",
       "    }\n",
       "</style>\n",
       "<table border=\"1\" class=\"dataframe\">\n",
       "  <thead>\n",
       "    <tr style=\"text-align: right;\">\n",
       "      <th></th>\n",
       "      <th>x</th>\n",
       "      <th>y</th>\n",
       "      <th>tau</th>\n",
       "      <th>z</th>\n",
       "      <th>sim_time</th>\n",
       "      <th>calendar</th>\n",
       "      <th>geometry</th>\n",
       "    </tr>\n",
       "  </thead>\n",
       "  <tbody>\n",
       "    <tr>\n",
       "      <th>0</th>\n",
       "      <td>50.00000</td>\n",
       "      <td>2.500000</td>\n",
       "      <td>0.000000</td>\n",
       "      <td>None</td>\n",
       "      <td>760.000977</td>\n",
       "      <td>2002-01-30 00:01:24.375000</td>\n",
       "      <td>POINT (50.00000 2.50000)</td>\n",
       "    </tr>\n",
       "    <tr>\n",
       "      <th>1</th>\n",
       "      <td>49.64539</td>\n",
       "      <td>2.622893</td>\n",
       "      <td>-6.390701</td>\n",
       "      <td>None</td>\n",
       "      <td>753.610276</td>\n",
       "      <td>2002-01-23 14:38:47.807151</td>\n",
       "      <td>POINT (49.64539 2.62289)</td>\n",
       "    </tr>\n",
       "    <tr>\n",
       "      <th>2</th>\n",
       "      <td>49.64539</td>\n",
       "      <td>2.356882</td>\n",
       "      <td>-10.438048</td>\n",
       "      <td>None</td>\n",
       "      <td>749.562929</td>\n",
       "      <td>2002-01-19 13:30:37.054410</td>\n",
       "      <td>POINT (49.64539 2.35688)</td>\n",
       "    </tr>\n",
       "    <tr>\n",
       "      <th>3</th>\n",
       "      <td>48.93617</td>\n",
       "      <td>2.463298</td>\n",
       "      <td>-13.309206</td>\n",
       "      <td>None</td>\n",
       "      <td>746.691771</td>\n",
       "      <td>2002-01-16 16:36:09.009736</td>\n",
       "      <td>POINT (48.93617 2.46330)</td>\n",
       "    </tr>\n",
       "    <tr>\n",
       "      <th>4</th>\n",
       "      <td>48.22695</td>\n",
       "      <td>2.269559</td>\n",
       "      <td>-24.226585</td>\n",
       "      <td>None</td>\n",
       "      <td>735.774391</td>\n",
       "      <td>2002-01-05 18:35:07.389014</td>\n",
       "      <td>POINT (48.22695 2.26956)</td>\n",
       "    </tr>\n",
       "  </tbody>\n",
       "</table>\n",
       "</div>"
      ],
      "text/plain": [
       "          x         y        tau     z    sim_time                   calendar  \\\n",
       "0  50.00000  2.500000   0.000000  None  760.000977 2002-01-30 00:01:24.375000   \n",
       "1  49.64539  2.622893  -6.390701  None  753.610276 2002-01-23 14:38:47.807151   \n",
       "2  49.64539  2.356882 -10.438048  None  749.562929 2002-01-19 13:30:37.054410   \n",
       "3  48.93617  2.463298 -13.309206  None  746.691771 2002-01-16 16:36:09.009736   \n",
       "4  48.22695  2.269559 -24.226585  None  735.774391 2002-01-05 18:35:07.389014   \n",
       "\n",
       "                   geometry  \n",
       "0  POINT (50.00000 2.50000)  \n",
       "1  POINT (49.64539 2.62289)  \n",
       "2  POINT (49.64539 2.35688)  \n",
       "3  POINT (48.93617 2.46330)  \n",
       "4  POINT (48.22695 2.26956)  "
      ]
     },
     "execution_count": 13,
     "metadata": {},
     "output_type": "execute_result"
    }
   ],
   "source": [
    "# show as table\n",
    "pl.df.head()"
   ]
  },
  {
   "cell_type": "code",
   "execution_count": 14,
   "metadata": {
    "ExecuteTime": {
     "end_time": "2021-09-28T21:50:59.489147Z",
     "start_time": "2021-09-28T21:50:58.992133Z"
    }
   },
   "outputs": [
    {
     "data": {
      "image/png": "[encoded data removed]",
      "text/plain": [
       "<Figure size 864x72 with 1 Axes>"
      ]
     },
     "metadata": {
      "needs_background": "light"
     },
     "output_type": "display_data"
    }
   ],
   "source": [
    "# visualize it \n",
    "fig, ax1 = plt.subplots(1, figsize=(12,1))\n",
    "doc.c.plot.faces()\n",
    "doc.c.plot.fringes(par=ifm.Enum.P_HEAD)\n",
    "doc.c.mesh.gdf.nodes(par=ifm.Enum.P_BCFLOW_1ST).dropna().plot(ax=ax1)\n",
    "# plot seed point and trace\n",
    "pl.gdf.plot(ax=ax1, label=\"trace points\", alpha=0.5, color=\"white\")\n",
    "ax1.scatter([seed_point[0]],[seed_point[1]], marker=\"+\", color=\"red\", label=\"seed point for particles\")\n",
    "# figure format\n",
    "ax1.legend(loc=\"right\")\n",
    "ax1.set_title(\"model setup\")\n",
    "plt.axis(\"equal\")\n",
    "None"
   ]
  },
  {
   "cell_type": "code",
   "execution_count": 15,
   "metadata": {
    "ExecuteTime": {
     "end_time": "2021-09-28T21:50:59.723134Z",
     "start_time": "2021-09-28T21:50:59.492134Z"
    }
   },
   "outputs": [
    {
     "data": {
      "text/html": [
       "<div>\n",
       "<style scoped>\n",
       "    .dataframe tbody tr th:only-of-type {\n",
       "        vertical-align: middle;\n",
       "    }\n",
       "\n",
       "    .dataframe tbody tr th {\n",
       "        vertical-align: top;\n",
       "    }\n",
       "\n",
       "    .dataframe thead th {\n",
       "        text-align: right;\n",
       "    }\n",
       "</style>\n",
       "<table border=\"1\" class=\"dataframe\">\n",
       "  <thead>\n",
       "    <tr style=\"text-align: right;\">\n",
       "      <th></th>\n",
       "      <th>x</th>\n",
       "      <th>y</th>\n",
       "      <th>tau</th>\n",
       "      <th>z</th>\n",
       "      <th>sim_time</th>\n",
       "      <th>geometry</th>\n",
       "    </tr>\n",
       "  </thead>\n",
       "  <tbody>\n",
       "    <tr>\n",
       "      <th>2002-01-15</th>\n",
       "      <td>48.826269</td>\n",
       "      <td>2.433276</td>\n",
       "      <td>-15.000977</td>\n",
       "      <td>NaN</td>\n",
       "      <td>745.0</td>\n",
       "      <td>POINT (48.82627 2.43328)</td>\n",
       "    </tr>\n",
       "    <tr>\n",
       "      <th>2001-11-15</th>\n",
       "      <td>44.838685</td>\n",
       "      <td>2.385036</td>\n",
       "      <td>-76.000977</td>\n",
       "      <td>NaN</td>\n",
       "      <td>684.0</td>\n",
       "      <td>POINT (44.83869 2.38504)</td>\n",
       "    </tr>\n",
       "    <tr>\n",
       "      <th>2001-09-15</th>\n",
       "      <td>41.504710</td>\n",
       "      <td>2.732683</td>\n",
       "      <td>-137.000977</td>\n",
       "      <td>NaN</td>\n",
       "      <td>623.0</td>\n",
       "      <td>POINT (41.50471 2.73268)</td>\n",
       "    </tr>\n",
       "    <tr>\n",
       "      <th>2001-07-15</th>\n",
       "      <td>39.692324</td>\n",
       "      <td>3.145120</td>\n",
       "      <td>-199.000977</td>\n",
       "      <td>NaN</td>\n",
       "      <td>561.0</td>\n",
       "      <td>POINT (39.69232 3.14512)</td>\n",
       "    </tr>\n",
       "    <tr>\n",
       "      <th>2001-05-15</th>\n",
       "      <td>36.275799</td>\n",
       "      <td>3.424116</td>\n",
       "      <td>-260.000977</td>\n",
       "      <td>NaN</td>\n",
       "      <td>500.0</td>\n",
       "      <td>POINT (36.27580 3.42412)</td>\n",
       "    </tr>\n",
       "  </tbody>\n",
       "</table>\n",
       "</div>"
      ],
      "text/plain": [
       "                    x         y         tau   z  sim_time  \\\n",
       "2002-01-15  48.826269  2.433276  -15.000977 NaN     745.0   \n",
       "2001-11-15  44.838685  2.385036  -76.000977 NaN     684.0   \n",
       "2001-09-15  41.504710  2.732683 -137.000977 NaN     623.0   \n",
       "2001-07-15  39.692324  3.145120 -199.000977 NaN     561.0   \n",
       "2001-05-15  36.275799  3.424116 -260.000977 NaN     500.0   \n",
       "\n",
       "                            geometry  \n",
       "2002-01-15  POINT (48.82627 2.43328)  \n",
       "2001-11-15  POINT (44.83869 2.38504)  \n",
       "2001-09-15  POINT (41.50471 2.73268)  \n",
       "2001-07-15  POINT (39.69232 3.14512)  \n",
       "2001-05-15  POINT (36.27580 3.42412)  "
      ]
     },
     "execution_count": 15,
     "metadata": {},
     "output_type": "execute_result"
    }
   ],
   "source": [
    "# get two locations\n",
    "gdf_location = pl.get_location_at_time([datetime(2002, 1, 15),\n",
    "                                        datetime(2001, 11, 15),\n",
    "                                        datetime(2001, 9, 15),\n",
    "                                        datetime(2001, 7, 15),\n",
    "                                        datetime(2001, 5, 15),\n",
    "                                        ], geodataframe=True)\n",
    "gdf_location"
   ]
  },
  {
   "cell_type": "code",
   "execution_count": 16,
   "metadata": {
    "ExecuteTime": {
     "end_time": "2021-09-28T21:51:00.172052Z",
     "start_time": "2021-09-28T21:50:59.726135Z"
    }
   },
   "outputs": [
    {
     "data": {
      "image/png": "[encoded data removed]",
      "text/plain": [
       "<Figure size 864x72 with 1 Axes>"
      ]
     },
     "metadata": {
      "needs_background": "light"
     },
     "output_type": "display_data"
    }
   ],
   "source": [
    "# visualize it \n",
    "fig, ax1 = plt.subplots(1, figsize=(12,1))\n",
    "doc.c.plot.faces()\n",
    "doc.c.plot.fringes(par=ifm.Enum.P_HEAD)\n",
    "doc.c.mesh.gdf.nodes(par=ifm.Enum.P_BCFLOW_1ST).dropna().plot(ax=ax1)\n",
    "# plot seed point and trace\n",
    "gdf_location.plot(ax=ax1, label=\"partice locations\", alpha=1.0)\n",
    "ax1.scatter([seed_point[0]],[seed_point[1]], marker=\"+\", color=\"red\", label=\"seed point for particles\")\n",
    "# figure format\n",
    "ax1.legend(loc=\"right\")\n",
    "ax1.set_title(\"model setup\")\n",
    "plt.axis(\"equal\")\n",
    "None"
   ]
  },
  {
   "cell_type": "markdown",
   "metadata": {},
   "source": [
    "## Particle Swarm\n",
    "\n",
    "The Particle Swarm is an ensemble of particles. It allows for easier handling of many particles that are to be evaulated as an entirety"
   ]
  },
  {
   "cell_type": "code",
   "execution_count": 17,
   "metadata": {
    "ExecuteTime": {
     "end_time": "2021-09-28T21:51:00.188054Z",
     "start_time": "2021-09-28T21:51:00.175055Z"
    }
   },
   "outputs": [],
   "source": [
    "def plot_particle_location(time):\n",
    "    \n",
    "    fig, ax1 = plt.subplots(1, figsize=(12,1))\n",
    "    \n",
    "    doc.c.plot.faces()\n",
    "    doc.c.plot.fringes(par=ifm.Enum.P_HEAD)\n",
    "    doc.c.mesh.gdf.nodes(par=ifm.Enum.P_BCFLOW_1ST).dropna().plot(ax=ax1)\n",
    "\n",
    "    # plot seed point and trace\n",
    "    pls.particle_position_at_time(time).plot(ax=ax1, color=\"white\", label=\"particles\", markersize=3)\n",
    "    pls.seed_points().plot(ax=ax1, marker=\"+\", color=\"red\", label=\"seed points\")\n",
    "\n",
    "    # figure format\n",
    "    ax1.legend(loc=\"right\")\n",
    "    ax1.set_title(f\"{time}\")\n",
    "    plt.axis(\"equal\")\n",
    "    \n",
    "    plt.show()"
   ]
  },
  {
   "cell_type": "code",
   "execution_count": 18,
   "metadata": {
    "ExecuteTime": {
     "end_time": "2021-09-28T21:51:21.206354Z",
     "start_time": "2021-09-28T21:51:00.191052Z"
    }
   },
   "outputs": [],
   "source": [
    "# create sample particle swarm with 20 members\n",
    "pls = doc.c.particles.particle_swarm(forward=True, random_walk=True)\n",
    "seed = (50, 2.5, -10.5)  # seed at (x,y,z)\n",
    "pls.append_particle(seed, time_start=datetime(2000, 1, 1), count=20)"
   ]
  },
  {
   "cell_type": "code",
   "execution_count": 19,
   "metadata": {
    "ExecuteTime": {
     "end_time": "2021-09-28T21:51:26.471908Z",
     "start_time": "2021-09-28T21:51:21.209374Z"
    }
   },
   "outputs": [
    {
     "data": {
      "image/png": "[encoded data removed]",
      "text/plain": [
       "<Figure size 864x72 with 1 Axes>"
      ]
     },
     "metadata": {
      "needs_background": "light"
     },
     "output_type": "display_data"
    },
    {
     "data": {
      "image/png": "[encoded data removed]",
      "text/plain": [
       "<Figure size 864x72 with 1 Axes>"
      ]
     },
     "metadata": {
      "needs_background": "light"
     },
     "output_type": "display_data"
    },
    {
     "data": {
      "image/png": "[encoded data removed]",
      "text/plain": [
       "<Figure size 864x72 with 1 Axes>"
      ]
     },
     "metadata": {
      "needs_background": "light"
     },
     "output_type": "display_data"
    },
    {
     "data": {
      "image/png": "[encoded data removed]",
      "text/plain": [
       "<Figure size 864x72 with 1 Axes>"
      ]
     },
     "metadata": {
      "needs_background": "light"
     },
     "output_type": "display_data"
    },
    {
     "data": {
      "image/png": "[encoded data removed]",
      "text/plain": [
       "<Figure size 864x72 with 1 Axes>"
      ]
     },
     "metadata": {
      "needs_background": "light"
     },
     "output_type": "display_data"
    },
    {
     "data": {
      "image/png": "[encoded data removed]",
      "text/plain": [
       "<Figure size 864x72 with 1 Axes>"
      ]
     },
     "metadata": {
      "needs_background": "light"
     },
     "output_type": "display_data"
    }
   ],
   "source": [
    "# plot their movement over time\n",
    "for month in range(1, 13, 2):\n",
    "    plot_particle_location(datetime(2000, month, 1))"
   ]
  },
  {
   "cell_type": "markdown",
   "metadata": {},
   "source": [
    "plot the trajectories"
   ]
  },
  {
   "cell_type": "code",
   "execution_count": 20,
   "metadata": {
    "ExecuteTime": {
     "end_time": "2021-09-28T21:51:27.129257Z",
     "start_time": "2021-09-28T21:51:26.474911Z"
    }
   },
   "outputs": [
    {
     "data": {
      "text/plain": [
       "(-1.3877787807814457e-15,\n",
       " 100.00000000000001,\n",
       " -2.7755575615628914e-16,\n",
       " 5.000000000000001)"
      ]
     },
     "execution_count": 20,
     "metadata": {},
     "output_type": "execute_result"
    },
    {
     "data": {
      "image/png": "[encoded data removed]",
      "text/plain": [
       "<Figure size 864x72 with 1 Axes>"
      ]
     },
     "metadata": {
      "needs_background": "light"
     },
     "output_type": "display_data"
    }
   ],
   "source": [
    "fig, ax1 = plt.subplots(1, figsize=(12,1))\n",
    "    \n",
    "doc.c.plot.faces()\n",
    "doc.c.plot.fringes(par=ifm.Enum.P_HEAD)\n",
    "doc.c.mesh.gdf.nodes(par=ifm.Enum.P_BCFLOW_1ST).dropna().plot(ax=ax1)\n",
    "\n",
    "pls.trajectories().plot(ax=ax1, color=\"white\", alpha=0.3, label=\"trajectories\")\n",
    "pls.seed_points().plot(ax=ax1, marker=\"+\", color=\"red\", label=\"seed points\")\n",
    "\n",
    "\n",
    "# figure format\n",
    "ax1.legend(loc=\"right\")\n",
    "plt.axis(\"equal\")"
   ]
  },
  {
   "cell_type": "markdown",
   "metadata": {},
   "source": [
    "## Seeding at multiple times\n"
   ]
  },
  {
   "cell_type": "code",
   "execution_count": 21,
   "metadata": {
    "ExecuteTime": {
     "end_time": "2021-09-28T21:51:48.553461Z",
     "start_time": "2021-09-28T21:51:27.131235Z"
    }
   },
   "outputs": [],
   "source": [
    "# adding more particles, started at different seed point and -time\n",
    "pls.append_particle((20, 2.5, -10.5), time_start=datetime(2000, 6, 1),\n",
    "                    count=20)"
   ]
  },
  {
   "cell_type": "code",
   "execution_count": 22,
   "metadata": {
    "ExecuteTime": {
     "end_time": "2021-09-28T21:51:58.143178Z",
     "start_time": "2021-09-28T21:51:48.553461Z"
    }
   },
   "outputs": [
    {
     "data": {
      "image/png": "[encoded data removed]",
      "text/plain": [
       "<Figure size 864x72 with 1 Axes>"
      ]
     },
     "metadata": {
      "needs_background": "light"
     },
     "output_type": "display_data"
    },
    {
     "data": {
      "image/png": "[encoded data removed]",
      "text/plain": [
       "<Figure size 864x72 with 1 Axes>"
      ]
     },
     "metadata": {
      "needs_background": "light"
     },
     "output_type": "display_data"
    },
    {
     "data": {
      "image/png": "[encoded data removed]",
      "text/plain": [
       "<Figure size 864x72 with 1 Axes>"
      ]
     },
     "metadata": {
      "needs_background": "light"
     },
     "output_type": "display_data"
    },
    {
     "data": {
      "image/png": "[encoded data removed]",
      "text/plain": [
       "<Figure size 864x72 with 1 Axes>"
      ]
     },
     "metadata": {
      "needs_background": "light"
     },
     "output_type": "display_data"
    },
    {
     "data": {
      "image/png": "[encoded data removed]",
      "text/plain": [
       "<Figure size 864x72 with 1 Axes>"
      ]
     },
     "metadata": {
      "needs_background": "light"
     },
     "output_type": "display_data"
    },
    {
     "data": {
      "image/png": "[encoded data removed]",
      "text/plain": [
       "<Figure size 864x72 with 1 Axes>"
      ]
     },
     "metadata": {
      "needs_background": "light"
     },
     "output_type": "display_data"
    }
   ],
   "source": [
    "# plot their movement over \n",
    "for m in range(1, 13, 2):\n",
    "    plot_particle_location(datetime(2000, m, 1))"
   ]
  },
  {
   "cell_type": "markdown",
   "metadata": {},
   "source": [
    "## Movie Time"
   ]
  },
  {
   "cell_type": "code",
   "execution_count": 23,
   "metadata": {
    "ExecuteTime": {
     "end_time": "2021-09-28T21:51:58.174179Z",
     "start_time": "2021-09-28T21:51:58.148148Z"
    }
   },
   "outputs": [],
   "source": [
    "# https://matplotlib.org/examples/animation/moviewriter.html\n",
    "import ipywidgets as widgets\n",
    "import matplotlib\n",
    "import matplotlib.pyplot as plt\n",
    "import matplotlib.animation as manimation"
   ]
  },
  {
   "cell_type": "code",
   "execution_count": 24,
   "metadata": {
    "ExecuteTime": {
     "end_time": "2021-09-28T21:51:58.189186Z",
     "start_time": "2021-09-28T21:51:58.178147Z"
    }
   },
   "outputs": [],
   "source": [
    "# the settings can also be provided as a single dictionary, \n",
    "# in this case the other options are overridden\n",
    "settings = {\"tracking_mode\" : ifm.Enum.PT_MODE_STEADY,\n",
    "            \"tracking_direction\" : ifm.Enum.PT_DIR_FORWARD,\n",
    "            \"tracking_type\" : ifm.Enum.PT_TYPE_RW}\n",
    "\n",
    "pls = doc.c.particles.ParticleSwarm(doc, default_settings=settings)"
   ]
  },
  {
   "cell_type": "code",
   "execution_count": 25,
   "metadata": {
    "ExecuteTime": {
     "end_time": "2021-09-28T21:56:10.910202Z",
     "start_time": "2021-09-28T21:51:58.191149Z"
    }
   },
   "outputs": [],
   "source": [
    "# seed 20 particle each at three different location and different time\n",
    "pls.append_particle((50 , 2.5 , -10.5), count=80, time_start=datetime(2000, 1, 1))\n",
    "pls.append_particle((40 , 2.5 , -10.5), count=80, time_start=datetime(2000, 6, 1))\n",
    "pls.append_particle((30 , 2.5 , -10.5), count=80, time_start=datetime(2001, 1, 1))"
   ]
  },
  {
   "cell_type": "code",
   "execution_count": 26,
   "metadata": {
    "ExecuteTime": {
     "end_time": "2021-09-28T21:56:10.924880Z",
     "start_time": "2021-09-28T21:56:10.912798Z"
    }
   },
   "outputs": [],
   "source": [
    "# define the travel period\n",
    "start_date = datetime(2000, 1, 1)\n",
    "end_date = datetime(2004, 1, 1)\n",
    "freq = \"D\"\n",
    "fps=24"
   ]
  },
  {
   "cell_type": "code",
   "execution_count": 27,
   "metadata": {
    "ExecuteTime": {
     "end_time": "2021-09-28T21:56:10.955913Z",
     "start_time": "2021-09-28T21:56:10.928891Z"
    }
   },
   "outputs": [
    {
     "name": "stdout",
     "output_type": "stream",
     "text": [
      "number of timestages to render 1462\n",
      "length of movie : 60.9 sec\n"
     ]
    },
    {
     "data": {
      "application/vnd.jupyter.widget-view+json": {
       "model_id": "0a1e3e2c2e404c9d83a43a476c06feec",
       "version_major": 2,
       "version_minor": 0
      },
      "text/plain": [
       "IntProgress(value=0, max=1462)"
      ]
     },
     "metadata": {},
     "output_type": "display_data"
    }
   ],
   "source": [
    "timestages = pd.date_range(start_date, end_date, freq=freq).to_pydatetime() \n",
    "print(f\"number of timestages to render {len(timestages)}\")\n",
    "print(f\"length of movie : {(len(timestages) / fps):.1f} sec\")\n",
    "\n",
    "p = widgets.IntProgress(max=len(timestages))\n",
    "display(p)\n",
    "p.value = 0"
   ]
  },
  {
   "cell_type": "code",
   "execution_count": 28,
   "metadata": {
    "ExecuteTime": {
     "end_time": "2021-09-29T01:07:12.114670Z",
     "start_time": "2021-09-28T21:56:10.958882Z"
    }
   },
   "outputs": [
    {
     "data": {
      "image/png": "[encoded data removed]",
      "text/plain": [
       "<Figure size 1200x200 with 1 Axes>"
      ]
     },
     "metadata": {
      "needs_background": "light"
     },
     "output_type": "display_data"
    }
   ],
   "source": [
    "# format figure\n",
    "plt.style.use(\"DHI\")\n",
    "fig, ax1 = plt.subplots(1, figsize=(12,2))\n",
    "\n",
    "# initialize the writer\n",
    "FFMpegWriter = manimation.writers['ffmpeg']\n",
    "writer = FFMpegWriter(fps=fps)\n",
    "\n",
    "# render one image per time step   \n",
    "with writer.saving(fig, \"./particle_animation.mp4\", fig.dpi):\n",
    "    for time in timestages:\n",
    "        \n",
    "        # update progress bar\n",
    "        p.value += 1\n",
    "        p.description = str(time)\n",
    "\n",
    "        # clear figure\n",
    "        ax1.clear()\n",
    "\n",
    "        # plot the figure    \n",
    "        doc.c.plot.faces()\n",
    "        doc.c.plot.fringes(par=ifm.Enum.P_HEAD)\n",
    "        doc.c.mesh.gdf.nodes(par=ifm.Enum.P_BCFLOW_1ST).dropna().plot(ax=ax1)\n",
    "\n",
    "        pls.particle_position_at_time(time).plot(ax=ax1, color=\"white\", label=\"particles\", markersize=1)\n",
    "        pls.seed_points().plot(ax=ax1, marker=\"+\", color=\"red\", label=\"seed points\")\n",
    "\n",
    "        # figure format\n",
    "        ax1.legend(loc=\"right\")\n",
    "        ax1.set_title(f\"{time}\")\n",
    "        plt.axis(\"equal\")\n",
    "\n",
    "        # add frame to animation\n",
    "        writer.grab_frame()"
   ]
  }
 ],
 "metadata": {
  "hide_input": false,
  "kernelspec": {
   "display_name": "py36_dhi_imageproc",
   "language": "python",
   "name": "py36_dhi_imageproc"
  },
  "language_info": {
   "codemirror_mode": {
    "name": "ipython",
    "version": 3
   },
   "file_extension": ".py",
   "mimetype": "text/x-python",
   "name": "python",
   "nbconvert_exporter": "python",
   "pygments_lexer": "ipython3",
   "version": "3.6.10"
  },
  "toc": {
   "nav_menu": {},
   "number_sections": true,
   "sideBar": true,
   "skip_h1_title": true,
   "toc_cell": false,
   "toc_position": {},
   "toc_section_display": "block",
   "toc_window_display": false
  },
  "varInspector": {
   "cols": {
    "lenName": 16,
    "lenType": 16,
    "lenVar": 40
   },
   "kernels_config": {
    "python": {
     "delete_cmd_postfix": "",
     "delete_cmd_prefix": "del ",
     "library": "var_list.py",
     "varRefreshCmd": "print(var_dic_list())"
    },
    "r": {
     "delete_cmd_postfix": ") ",
     "delete_cmd_prefix": "rm(",
     "library": "var_list.r",
     "varRefreshCmd": "cat(var_dic_list()) "
    }
   },
   "types_to_exclude": [
    "module",
    "function",
    "builtin_function_or_method",
    "instance",
    "_Feature"
   ],
   "window_display": false
  }
 },
 "nbformat": 4,
 "nbformat_minor": 2
}
