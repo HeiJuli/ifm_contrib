{
 "cells": [
  {
   "attachments": {},
   "cell_type": "markdown",
   "metadata": {},
   "source": [
    "# ifm_contrib - An Introduction\n",
    "\n",
    "\n",
    "\n",
    "`ifm_ contrib` builds on top of the Standard FEFLOW IFM API which provides the elementary functions to access the model data. It therefore does not extend the functionality of the IFM in the sense of allowing to do something that was not possible before. It rather aims at increasing productivity and allowing a more intuitive coding style, mainly by exporting data to `pandas` and `geopandas` and creating `matplotlib` figures with a concise feature set.\n",
    "\n",
    "## FAQ\n",
    "\n",
    "**What is ifm_contrib?**\n",
    "\n",
    "+ **ifm_contrib** is an Open Source Extension Project for the FEFLOW Programming API Python IFM.\n",
    "+ **ifm_contrib** is code-compatible with the standard IFM.\n",
    "+ **ifm_contrib** adds extra API commands focussing on productivity in working with FEFLOW\n",
    "+ **ifm_contrib** syntax is kept close to workflows on the GUI for intuitivity\n",
    "\n",
    "**Installation**\n",
    "\n",
    "+ ifm_contrib requires FEFLOW version 7.2 or higher.\n",
    "+ ifm_contrib is published as a Python package for easy installation with `pip install ifm_contrib`.\n",
    "+ for the lastest development version, clone the repository from github `git clone http://github.com/dhi/ifm-contrib`\n",
    "\n",
    "**Online Help**\n",
    "\n",
    "Its not a pretty one, but you can find an (unregularly updated) help system here:\n",
    "https://red5alex.github.io/ifm_contrib/ifm_contrib.contrib_lib.html "
   ]
  },
  {
   "cell_type": "markdown",
   "metadata": {},
   "source": [
    "## Highlights\n",
    "\n",
    "*ifm_contrib* in combination with Jupyter can improve productivity by a large amount as opposed to using the GUI alone. \n",
    "A few things you can do:\n",
    "\n",
    "**Visualize FEFLOW Results directly in Jupyter**\n",
    "\n",
    "Create inline plots with the look-and-feel of FEFLOWs directly within Jupyter. The plots can be exported as GeoDataFrames and saved to shape-files easily. *ifm_contrib* adds light support for coordinate systems to FEFLOW.\n",
    "\n",
    "<img src=\"highlights_map.png\" align=\"left\"> "
   ]
  },
  {
   "cell_type": "markdown",
   "metadata": {},
   "source": [
    "**Process FEFLOWs Time Series with Pandas**\n",
    "\n",
    "Time Series (aka Power functiosn) and History charts can be easily exported to pandas DataFrames. Automatic conversion to DateTime based on FEFLOWs Reference Time. In-Built Synchronization to observation point reference data.\n",
    "\n",
    "<img src=\"highlights_timeseries.png\" align=\"left\">\n"
   ]
  },
  {
   "cell_type": "markdown",
   "metadata": {},
   "source": [
    "**Pandas access to Nodal and Elemntal Data, Multi-Layer Wells, and many more**\n",
    "\n",
    "Just keep on reading..."
   ]
  },
  {
   "attachments": {},
   "cell_type": "markdown",
   "metadata": {},
   "source": [
    "## Installation\n",
    "\n",
    "`ifm_contrib` can be run on \n",
    "+ **Python 3.5 or higher**.\n",
    "+ **FEFLOW 7.2 or higher**, Python SDK must be installed.\n",
    "\n",
    "\n",
    "### Installation from GitHub"
   ]
  },
  {
   "cell_type": "markdown",
   "metadata": {},
   "source": [
    "#### Installation using git\n",
    "\n",
    "The recommended installation method is cloning the git-repository onto you local hard-drive. This allows for a convenient and frequent updates of the latest development version by pulling latest changes directly into the library.\n",
    "\n",
    "If you are not a user of git, see alternative installations below.\n",
    "\n",
    "A good target directory for cloning the repository is the python subfolder of FEFLOW (e.g. `C:\\Program Files\\DHI\\2019\\FEFLOW 7.2\\python`). This is where the classic IFM is installed. The folder is by default added to the Python search path by FEFLOW during installation.\n",
    "\n",
    "Note that under Windows the folder is protected and read-only. Make sure that you run your git-client as Administrator, or to remove the read-only protection under Windows before contuning. Note that if using Tortoise-Git, you have to allow writing permission before continuing.\n",
    "\n",
    "To clone the repository, open a command shell in the target directory and execute.\n",
    "\n",
    "  `git clone https://github.com/DHI/ifm_contrib.git`\n",
    "\n",
    "Of course you can use any other git-client if you prefer.\n",
    "\n",
    "Once cloning is successful, it is recommended to rename the folder `ifm_contrib-master` to `ifm_contrib`."
   ]
  },
  {
   "cell_type": "markdown",
   "metadata": {},
   "source": [
    "#### Installation using  Zip-Folder\n",
    "  \n",
    "Download the Zip-Folder is the fastest way to install the latest version of ifm_contrib if you do not want to use git.\n",
    "Open https://github.com/dhi/ifm_contrib in your web-browser and choose **Clone or download** On the upper right corner, followed by: **Download ZIP**\n",
    "\n",
    "<img src=\"installation_zip.png\" align=\"left\">"
   ]
  },
  {
   "cell_type": "markdown",
   "metadata": {},
   "source": [
    "Move the folder contained in the zip file to a local directory that is in your Python search path and rename it to `ifm_contrib`. A good choice is python subfolder of FEFLOW where the classic IFM is already placed (e.g. `C:\\Program Files\\DHI\\2019\\FEFLOW 7.2\\python`). This folder is by default been added to the Python search path by FEFLOW during installation."
   ]
  },
  {
   "cell_type": "markdown",
   "metadata": {},
   "source": [
    "## Import and FEFLOW version\n",
    "\n",
    "`ifm_contrib` should now be found in the Python search path and can be imported as per below.\n",
    "Because **ifm_contrib is code-compatible to the standard IFM**, you can import it with this alias.\n",
    "\n",
    "Optionally, you can choose which version of the IFM API should be imported as the base ifm by setting an environment variable `FEFLOW_KERNEL_VERSION` and setting its value to the major FEFLOW version number (must be formatted as a string, e.g. `74` for FEFLOW 7.4. If no environment variable is set, the most recent installed FEFLOW version is used. "
   ]
  },
  {
   "cell_type": "code",
   "execution_count": 2,
   "metadata": {
    "ExecuteTime": {
     "end_time": "2021-02-12T17:08:35.844757Z",
     "start_time": "2021-02-12T17:08:35.455763Z"
    }
   },
   "outputs": [
    {
     "name": "stdout",
     "output_type": "stream",
     "text": [
      "FEFLOW Version: 7500\n"
     ]
    }
   ],
   "source": [
    "# optional: set FEFLOW version to work with\n",
    "import os\n",
    "os.environ['FEFLOW_KERNEL_VERSION'] = '75'\n",
    "\n",
    "# import ifm_contrib with alias ifm\n",
    "import ifm_contrib as ifm\n",
    "print(\"FEFLOW Version: {}\".format(ifm.getKernelVersion()))"
   ]
  },
  {
   "cell_type": "markdown",
   "metadata": {},
   "source": [
    "## Namespace - Where do I find which Function?\n",
    "\n",
    "**Standard IFM calls**\n",
    "\n",
    "`ifm_contrib` inherits all commands of the classic IFM API, thus it is code-compatible with code written for the classic IFM ."
   ]
  },
  {
   "cell_type": "code",
   "execution_count": 3,
   "metadata": {
    "ExecuteTime": {
     "end_time": "2021-02-12T17:08:37.599381Z",
     "start_time": "2021-02-12T17:08:36.661038Z"
    }
   },
   "outputs": [
    {
     "name": "stdout",
     "output_type": "stream",
     "text": [
      "The model has 959 elements.\n"
     ]
    }
   ],
   "source": [
    "# set the license to Viewer (no license required for postprocessing)\n",
    "ifm.forceLicense(\"Viewer\")\n",
    "\n",
    "# load a model and do some regular stuff with it\n",
    "doc = ifm.loadDocument(\"../../unittests/models/example_2D.dac\")\n",
    "print(f\"The model has {doc.getNumberOfElements()} elements.\")"
   ]
  },
  {
   "cell_type": "markdown",
   "metadata": {},
   "source": [
    "**ifm_contrib calls**\n",
    "\n",
    "However **ifm_contrib adds additional API features**. Most of these are found in a separate sub-namespace of the IfmDocument object called `doc.c.<command>`. The code below is a method to retrieve a data-frame with the head-observations of a model by calling `doc.c.hist.df.HEAD` and plotting it using the DataFraes `.plot()`-method.\n",
    "\n"
   ]
  },
  {
   "cell_type": "code",
   "execution_count": 4,
   "metadata": {
    "ExecuteTime": {
     "end_time": "2021-02-12T17:08:38.193241Z",
     "start_time": "2021-02-12T17:08:37.974024Z"
    }
   },
   "outputs": [
    {
     "data": {
      "text/plain": [
       "<AxesSubplot: xlabel='Simulation Time'>"
      ]
     },
     "execution_count": 4,
     "metadata": {},
     "output_type": "execute_result"
    },
    {
     "data": {
      "image/png": "[encoded data removed]",
      "text/plain": [
       "<Figure size 640x480 with 1 Axes>"
      ]
     },
     "metadata": {},
     "output_type": "display_data"
    }
   ],
   "source": [
    "doc.c.hist.df.HEAD.plot()"
   ]
  },
  {
   "cell_type": "markdown",
   "metadata": {},
   "source": [
    "The features are classified by their usage, following roughly the rationale as they appear in FEFLOW's GUI:\n",
    "\n",
    "+ `doc.c.plot` : plot maps using matplotlib, similar to FEFLOWs slice view.\n",
    "+ `doc.c.hist` : get history chart data\n",
    "+ `doc.c.mesh` : get model data (nodal, elemental, dfe, multi-layer wells, etc.)\n",
    "+ `doc.c.ts` : get time series data\n",
    "+ `doc.c.obs` : get observation points data\n",
    "+ `doc.c.sel` : get selection data\n",
    "+ `doc.c.content` : get elemental content data\n",
    "\n",
    "An individual introduction for each of them is provided further below.\n",
    "\n",
    "**Methods for Vanilla Python (if using standard libraries only)**\n",
    "\n",
    "The direct member methods of these objects return results that can be used using Python standard libraries.\n",
    "\n",
    "For example, `doc.c.sel.getSelectionNames` returns the names of the selections stored in the model as a plain Python list:"
   ]
  },
  {
   "cell_type": "code",
   "execution_count": 5,
   "metadata": {
    "ExecuteTime": {
     "end_time": "2021-02-12T17:08:39.241238Z",
     "start_time": "2021-02-12T17:08:39.234238Z"
    }
   },
   "outputs": [
    {
     "data": {
      "text/plain": [
       "['upper_half', 'conversiontest_el']"
      ]
     },
     "execution_count": 5,
     "metadata": {},
     "output_type": "execute_result"
    }
   ],
   "source": [
    "doc.c.sel.getSelectionNames(seltype=ifm.Enum.SEL_ELEMS)"
   ]
  },
  {
   "cell_type": "markdown",
   "metadata": {},
   "source": [
    "**Methods for Pandas**\n",
    "\n",
    "The recommended use of ifm_contrib is in conjunction with the well-known Python DataScience ecosystem, namely `pandas`, `geopandas` (See section *Plotting* for `matplotlib`).\n",
    "\n",
    "In this case, ifm_cotrib common return format are pandas.DataFrame objects. The respective methods are available in the `.df` (stands for DataFrame) namespace in each component, e.g. for the case of selections `doc.c.sel.df.selections`:"
   ]
  },
  {
   "cell_type": "code",
   "execution_count": null,
   "metadata": {
    "ExecuteTime": {
     "end_time": "2021-02-12T17:08:40.319885Z",
     "start_time": "2021-02-12T17:08:40.293885Z"
    }
   },
   "outputs": [
    {
     "data": {
      "text/html": [
       "<div>\n",
       "<style scoped>\n",
       "    .dataframe tbody tr th:only-of-type {\n",
       "        vertical-align: middle;\n",
       "    }\n",
       "\n",
       "    .dataframe tbody tr th {\n",
       "        vertical-align: top;\n",
       "    }\n",
       "\n",
       "    .dataframe thead th {\n",
       "        text-align: right;\n",
       "    }\n",
       "</style>\n",
       "<table border=\"1\" class=\"dataframe\">\n",
       "  <thead>\n",
       "    <tr style=\"text-align: right;\">\n",
       "      <th></th>\n",
       "      <th>SEL_TYPE</th>\n",
       "      <th>SEL_ENUM</th>\n",
       "      <th>SEL_ID</th>\n",
       "      <th>N_ITEMS</th>\n",
       "    </tr>\n",
       "    <tr>\n",
       "      <th>selection_name</th>\n",
       "      <th></th>\n",
       "      <th></th>\n",
       "      <th></th>\n",
       "      <th></th>\n",
       "    </tr>\n",
       "  </thead>\n",
       "  <tbody>\n",
       "    <tr>\n",
       "      <th>upper_half</th>\n",
       "      <td>elements</td>\n",
       "      <td>1</td>\n",
       "      <td>0</td>\n",
       "      <td>420</td>\n",
       "    </tr>\n",
       "    <tr>\n",
       "      <th>conversiontest_el</th>\n",
       "      <td>elements</td>\n",
       "      <td>1</td>\n",
       "      <td>1</td>\n",
       "      <td>2</td>\n",
       "    </tr>\n",
       "  </tbody>\n",
       "</table>\n",
       "</div>"
      ],
      "text/plain": [
       "                   SEL_TYPE  SEL_ENUM  SEL_ID  N_ITEMS\n",
       "selection_name                                        \n",
       "upper_half         elements         1       0      420\n",
       "conversiontest_el  elements         1       1        2"
      ]
     },
     "execution_count": 5,
     "metadata": {},
     "output_type": "execute_result"
    }
   ],
   "source": [
    "doc.c.sel.df.selections(seltype=ifm.Enum.SEL_ELEMS)"
   ]
  },
  {
   "cell_type": "markdown",
   "metadata": {},
   "source": [
    "Note that ifm_contrib adds additional information, like in this case the number of elements, for easier access to information.\n",
    "\n",
    "**Method for GeoPandas**\n",
    "\n",
    "For methods returning geographic information, there is also a `.gdf` namespace that returns the desired information as a GeoDataFrame that contains the geometry of a feature to allow plotting and spatial operation.\n",
    "\n",
    "For example, observation points `doc.c.obs.gdf.obspoints` method returns a GeoDataFrame that can be used like a regular Dataframe,"
   ]
  },
  {
   "cell_type": "code",
   "execution_count": null,
   "metadata": {
    "ExecuteTime": {
     "end_time": "2021-02-12T17:08:41.610497Z",
     "start_time": "2021-02-12T17:08:41.307500Z"
    }
   },
   "outputs": [
    {
     "data": {
      "text/html": [
       "<div>\n",
       "<style scoped>\n",
       "    .dataframe tbody tr th:only-of-type {\n",
       "        vertical-align: middle;\n",
       "    }\n",
       "\n",
       "    .dataframe tbody tr th {\n",
       "        vertical-align: top;\n",
       "    }\n",
       "\n",
       "    .dataframe thead th {\n",
       "        text-align: right;\n",
       "    }\n",
       "</style>\n",
       "<table border=\"1\" class=\"dataframe\">\n",
       "  <thead>\n",
       "    <tr style=\"text-align: right;\">\n",
       "      <th></th>\n",
       "      <th>label</th>\n",
       "      <th>x</th>\n",
       "      <th>y</th>\n",
       "      <th>z</th>\n",
       "      <th>node</th>\n",
       "      <th>h</th>\n",
       "      <th>conc</th>\n",
       "      <th>shape</th>\n",
       "    </tr>\n",
       "    <tr>\n",
       "      <th>id</th>\n",
       "      <th></th>\n",
       "      <th></th>\n",
       "      <th></th>\n",
       "      <th></th>\n",
       "      <th></th>\n",
       "      <th></th>\n",
       "      <th></th>\n",
       "      <th></th>\n",
       "    </tr>\n",
       "  </thead>\n",
       "  <tbody>\n",
       "    <tr>\n",
       "      <th>0</th>\n",
       "      <td>myObsPoint1</td>\n",
       "      <td>422.358098</td>\n",
       "      <td>833.017547</td>\n",
       "      <td>0.0</td>\n",
       "      <td>NaN</td>\n",
       "      <td>3.228757</td>\n",
       "      <td>NaN</td>\n",
       "      <td>POINT (422.358 833.018)</td>\n",
       "    </tr>\n",
       "    <tr>\n",
       "      <th>1</th>\n",
       "      <td>myObsPoint2</td>\n",
       "      <td>578.870531</td>\n",
       "      <td>561.335589</td>\n",
       "      <td>0.0</td>\n",
       "      <td>NaN</td>\n",
       "      <td>3.417063</td>\n",
       "      <td>NaN</td>\n",
       "      <td>POINT (578.871 561.336)</td>\n",
       "    </tr>\n",
       "    <tr>\n",
       "      <th>2</th>\n",
       "      <td>myObsPoint3</td>\n",
       "      <td>192.019047</td>\n",
       "      <td>463.884452</td>\n",
       "      <td>0.0</td>\n",
       "      <td>NaN</td>\n",
       "      <td>4.731053</td>\n",
       "      <td>NaN</td>\n",
       "      <td>POINT (192.019 463.884)</td>\n",
       "    </tr>\n",
       "  </tbody>\n",
       "</table>\n",
       "</div>"
      ],
      "text/plain": [
       "          label           x           y    z  node         h  conc  \\\n",
       "id                                                                   \n",
       "0   myObsPoint1  422.358098  833.017547  0.0   NaN  3.228757   NaN   \n",
       "1   myObsPoint2  578.870531  561.335589  0.0   NaN  3.417063   NaN   \n",
       "2   myObsPoint3  192.019047  463.884452  0.0   NaN  4.731053   NaN   \n",
       "\n",
       "                      shape  \n",
       "id                           \n",
       "0   POINT (422.358 833.018)  \n",
       "1   POINT (578.871 561.336)  \n",
       "2   POINT (192.019 463.884)  "
      ]
     },
     "execution_count": 6,
     "metadata": {},
     "output_type": "execute_result"
    }
   ],
   "source": [
    "doc.c.obs.gdf.obspoints()"
   ]
  },
  {
   "cell_type": "markdown",
   "metadata": {},
   "source": [
    "... but can also be shown in a Jupyter Notebook as a geometric shape:"
   ]
  },
  {
   "cell_type": "code",
   "execution_count": null,
   "metadata": {
    "ExecuteTime": {
     "end_time": "2021-02-12T17:08:42.608165Z",
     "start_time": "2021-02-12T17:08:42.362975Z"
    }
   },
   "outputs": [
    {
     "data": {
      "text/plain": [
       "<matplotlib.axes._subplots.AxesSubplot at 0x1edc1385a58>"
      ]
     },
     "execution_count": 7,
     "metadata": {},
     "output_type": "execute_result"
    },
    {
     "data": {
      "image/png": "[encoded data removed]",
      "text/plain": [
       "<Figure size 432x288 with 1 Axes>"
      ]
     },
     "metadata": {
      "needs_background": "light"
     },
     "output_type": "display_data"
    }
   ],
   "source": [
    "doc.c.obs.gdf.obspoints().plot()"
   ]
  },
  {
   "cell_type": "markdown",
   "metadata": {},
   "source": [
    "## Features \n",
    "\n",
    "In the following, the most important features are explained. We will discuss the main objects one-by-one.\n",
    "Note that its quite rare that the author typing this line has the time to update this document, so always assume that this not even more features may be implemented by the time you read this."
   ]
  },
  {
   "cell_type": "markdown",
   "metadata": {},
   "source": [
    "### Access Model Properties\n",
    "\n",
    "One of the most commonly used features of ifm_contrib is to query data that is related to mesh items and basically everything that you would see in the *Data Panel* of the GIU.\n",
    "\n",
    "These methods can be found below\n",
    "\n",
    "+ `doc.c.mesh`\n",
    "+ `doc.c.mesh.df`\n",
    "+ `doc.c.mesh.gdf`\n",
    "\n",
    "Note: Most of the time you want to use *(geo)pandas-use* features only here you can query more than just the basic information. Be careful with the corresponding *geopandas* options, computation is significant if querying large tables like nodes or elements.\n",
    "\n",
    "Items you can query for are:\n",
    "\n",
    "+ `doc.c.df.nodes` / `doc.c.df.elements`: nodal and elemental data, probably the most used functions\n",
    "+ `doc.c.df.elements` / `doc.c.df.faces`: data related to faces and elements (not much there, though)\n",
    "+ `doc.c.df.dfe` Properties of Discrete Feature Elements\n",
    "+ `doc.c.df.mlw` Properties of Multi-Layer Wells"
   ]
  },
  {
   "cell_type": "markdown",
   "metadata": {},
   "source": [
    "#### Nodal and Elemental Data\n",
    "\n",
    "`doc.c.mesh.df.nodes()` and `doc.c.mesh.df.elements()` returns a DataFrame with basic information on these properties if called without any parameters (showing first 3 lines). Note that coordinates are provided in global coordinates unless `global_cos=False` is set."
   ]
  },
  {
   "cell_type": "code",
   "execution_count": null,
   "metadata": {
    "ExecuteTime": {
     "end_time": "2021-02-12T17:08:45.526886Z",
     "start_time": "2021-02-12T17:08:45.509886Z"
    }
   },
   "outputs": [
    {
     "data": {
      "text/html": [
       "<div>\n",
       "<style scoped>\n",
       "    .dataframe tbody tr th:only-of-type {\n",
       "        vertical-align: middle;\n",
       "    }\n",
       "\n",
       "    .dataframe tbody tr th {\n",
       "        vertical-align: top;\n",
       "    }\n",
       "\n",
       "    .dataframe thead th {\n",
       "        text-align: right;\n",
       "    }\n",
       "</style>\n",
       "<table border=\"1\" class=\"dataframe\">\n",
       "  <thead>\n",
       "    <tr style=\"text-align: right;\">\n",
       "      <th></th>\n",
       "      <th>SLICE</th>\n",
       "      <th>TOP_NODE</th>\n",
       "      <th>X</th>\n",
       "      <th>Y</th>\n",
       "    </tr>\n",
       "    <tr>\n",
       "      <th>NODE</th>\n",
       "      <th></th>\n",
       "      <th></th>\n",
       "      <th></th>\n",
       "      <th></th>\n",
       "    </tr>\n",
       "  </thead>\n",
       "  <tbody>\n",
       "    <tr>\n",
       "      <th>0</th>\n",
       "      <td>None</td>\n",
       "      <td>None</td>\n",
       "      <td>165.454856</td>\n",
       "      <td>1029.189591</td>\n",
       "    </tr>\n",
       "    <tr>\n",
       "      <th>1</th>\n",
       "      <td>None</td>\n",
       "      <td>None</td>\n",
       "      <td>136.731283</td>\n",
       "      <td>1003.845262</td>\n",
       "    </tr>\n",
       "    <tr>\n",
       "      <th>2</th>\n",
       "      <td>None</td>\n",
       "      <td>None</td>\n",
       "      <td>108.007710</td>\n",
       "      <td>978.500933</td>\n",
       "    </tr>\n",
       "  </tbody>\n",
       "</table>\n",
       "</div>"
      ],
      "text/plain": [
       "     SLICE TOP_NODE           X            Y\n",
       "NODE                                        \n",
       "0     None     None  165.454856  1029.189591\n",
       "1     None     None  136.731283  1003.845262\n",
       "2     None     None  108.007710   978.500933"
      ]
     },
     "execution_count": 8,
     "metadata": {},
     "output_type": "execute_result"
    }
   ],
   "source": [
    "df_nodes = doc.c.mesh.df.nodes()\n",
    "df_nodes.head(n=3)"
   ]
  },
  {
   "cell_type": "markdown",
   "metadata": {},
   "source": [
    "To query more usefull data from the model, we want to add further columns to this table with the corresponding nodal data. \n",
    "\n",
    "**Model Properties**\n",
    "\n",
    "The below example adds a colum with the nodal hydraulic head value to the DataFrame by calling the parameter `par=`. The parameter is one of the constants defined in the `ifm.Enum` object, in which parameters are marked with a leading `P_` (e.g., `ifm.Enum.P_HEAD` denotes the hydraulic head)."
   ]
  },
  {
   "cell_type": "code",
   "execution_count": null,
   "metadata": {
    "ExecuteTime": {
     "end_time": "2021-02-12T17:08:46.452288Z",
     "start_time": "2021-02-12T17:08:46.429260Z"
    }
   },
   "outputs": [
    {
     "data": {
      "text/html": [
       "<div>\n",
       "<style scoped>\n",
       "    .dataframe tbody tr th:only-of-type {\n",
       "        vertical-align: middle;\n",
       "    }\n",
       "\n",
       "    .dataframe tbody tr th {\n",
       "        vertical-align: top;\n",
       "    }\n",
       "\n",
       "    .dataframe thead th {\n",
       "        text-align: right;\n",
       "    }\n",
       "</style>\n",
       "<table border=\"1\" class=\"dataframe\">\n",
       "  <thead>\n",
       "    <tr style=\"text-align: right;\">\n",
       "      <th></th>\n",
       "      <th>SLICE</th>\n",
       "      <th>TOP_NODE</th>\n",
       "      <th>X</th>\n",
       "      <th>Y</th>\n",
       "      <th>400</th>\n",
       "    </tr>\n",
       "    <tr>\n",
       "      <th>NODE</th>\n",
       "      <th></th>\n",
       "      <th></th>\n",
       "      <th></th>\n",
       "      <th></th>\n",
       "      <th></th>\n",
       "    </tr>\n",
       "  </thead>\n",
       "  <tbody>\n",
       "    <tr>\n",
       "      <th>0</th>\n",
       "      <td>None</td>\n",
       "      <td>None</td>\n",
       "      <td>165.454856</td>\n",
       "      <td>1029.189591</td>\n",
       "      <td>0.0</td>\n",
       "    </tr>\n",
       "    <tr>\n",
       "      <th>1</th>\n",
       "      <td>None</td>\n",
       "      <td>None</td>\n",
       "      <td>136.731283</td>\n",
       "      <td>1003.845262</td>\n",
       "      <td>NaN</td>\n",
       "    </tr>\n",
       "    <tr>\n",
       "      <th>2</th>\n",
       "      <td>None</td>\n",
       "      <td>None</td>\n",
       "      <td>108.007710</td>\n",
       "      <td>978.500933</td>\n",
       "      <td>NaN</td>\n",
       "    </tr>\n",
       "  </tbody>\n",
       "</table>\n",
       "</div>"
      ],
      "text/plain": [
       "     SLICE TOP_NODE           X            Y  400\n",
       "NODE                                             \n",
       "0     None     None  165.454856  1029.189591  0.0\n",
       "1     None     None  136.731283  1003.845262  NaN\n",
       "2     None     None  108.007710   978.500933  NaN"
      ]
     },
     "execution_count": 9,
     "metadata": {},
     "output_type": "execute_result"
    }
   ],
   "source": [
    "df_nodes= doc.c.mesh.df.nodes(par=ifm.Enum.P_HEAD)\n",
    "df_nodes.head(n=3)"
   ]
  },
  {
   "cell_type": "markdown",
   "metadata": {},
   "source": [
    "As this is not very readable, it is usually better to provide human-friendly column names when calling the method:"
   ]
  },
  {
   "cell_type": "code",
   "execution_count": null,
   "metadata": {
    "ExecuteTime": {
     "end_time": "2021-02-12T17:08:47.376449Z",
     "start_time": "2021-02-12T17:08:47.352431Z"
    }
   },
   "outputs": [
    {
     "data": {
      "text/html": [
       "<div>\n",
       "<style scoped>\n",
       "    .dataframe tbody tr th:only-of-type {\n",
       "        vertical-align: middle;\n",
       "    }\n",
       "\n",
       "    .dataframe tbody tr th {\n",
       "        vertical-align: top;\n",
       "    }\n",
       "\n",
       "    .dataframe thead th {\n",
       "        text-align: right;\n",
       "    }\n",
       "</style>\n",
       "<table border=\"1\" class=\"dataframe\">\n",
       "  <thead>\n",
       "    <tr style=\"text-align: right;\">\n",
       "      <th></th>\n",
       "      <th>SLICE</th>\n",
       "      <th>TOP_NODE</th>\n",
       "      <th>X</th>\n",
       "      <th>Y</th>\n",
       "      <th>HEAD</th>\n",
       "    </tr>\n",
       "    <tr>\n",
       "      <th>NODE</th>\n",
       "      <th></th>\n",
       "      <th></th>\n",
       "      <th></th>\n",
       "      <th></th>\n",
       "      <th></th>\n",
       "    </tr>\n",
       "  </thead>\n",
       "  <tbody>\n",
       "    <tr>\n",
       "      <th>0</th>\n",
       "      <td>None</td>\n",
       "      <td>None</td>\n",
       "      <td>165.454856</td>\n",
       "      <td>1029.189591</td>\n",
       "      <td>0.0</td>\n",
       "    </tr>\n",
       "    <tr>\n",
       "      <th>1</th>\n",
       "      <td>None</td>\n",
       "      <td>None</td>\n",
       "      <td>136.731283</td>\n",
       "      <td>1003.845262</td>\n",
       "      <td>NaN</td>\n",
       "    </tr>\n",
       "    <tr>\n",
       "      <th>2</th>\n",
       "      <td>None</td>\n",
       "      <td>None</td>\n",
       "      <td>108.007710</td>\n",
       "      <td>978.500933</td>\n",
       "      <td>NaN</td>\n",
       "    </tr>\n",
       "  </tbody>\n",
       "</table>\n",
       "</div>"
      ],
      "text/plain": [
       "     SLICE TOP_NODE           X            Y  HEAD\n",
       "NODE                                              \n",
       "0     None     None  165.454856  1029.189591   0.0\n",
       "1     None     None  136.731283  1003.845262   NaN\n",
       "2     None     None  108.007710   978.500933   NaN"
      ]
     },
     "execution_count": 10,
     "metadata": {},
     "output_type": "execute_result"
    }
   ],
   "source": [
    "df_nodes= doc.c.mesh.df.nodes(par={\"HEAD\": ifm.Enum.P_HEAD})\n",
    "df_nodes.head(n=3)"
   ]
  },
  {
   "cell_type": "markdown",
   "metadata": {},
   "source": [
    "This also allows you query more than one parameter:"
   ]
  },
  {
   "cell_type": "code",
   "execution_count": null,
   "metadata": {
    "ExecuteTime": {
     "end_time": "2021-02-12T17:08:48.360487Z",
     "start_time": "2021-02-12T17:08:48.341487Z"
    }
   },
   "outputs": [
    {
     "data": {
      "text/html": [
       "<div>\n",
       "<style scoped>\n",
       "    .dataframe tbody tr th:only-of-type {\n",
       "        vertical-align: middle;\n",
       "    }\n",
       "\n",
       "    .dataframe tbody tr th {\n",
       "        vertical-align: top;\n",
       "    }\n",
       "\n",
       "    .dataframe thead th {\n",
       "        text-align: right;\n",
       "    }\n",
       "</style>\n",
       "<table border=\"1\" class=\"dataframe\">\n",
       "  <thead>\n",
       "    <tr style=\"text-align: right;\">\n",
       "      <th></th>\n",
       "      <th>LAYER</th>\n",
       "      <th>TOP_ELEMENT</th>\n",
       "      <th>Transmissivity</th>\n",
       "      <th>Matrix Compressibility</th>\n",
       "    </tr>\n",
       "    <tr>\n",
       "      <th>ELEMENT</th>\n",
       "      <th></th>\n",
       "      <th></th>\n",
       "      <th></th>\n",
       "      <th></th>\n",
       "    </tr>\n",
       "  </thead>\n",
       "  <tbody>\n",
       "    <tr>\n",
       "      <th>0</th>\n",
       "      <td>None</td>\n",
       "      <td>None</td>\n",
       "      <td>1.0</td>\n",
       "      <td>0.0001</td>\n",
       "    </tr>\n",
       "    <tr>\n",
       "      <th>1</th>\n",
       "      <td>None</td>\n",
       "      <td>None</td>\n",
       "      <td>1.0</td>\n",
       "      <td>0.0001</td>\n",
       "    </tr>\n",
       "    <tr>\n",
       "      <th>2</th>\n",
       "      <td>None</td>\n",
       "      <td>None</td>\n",
       "      <td>1.0</td>\n",
       "      <td>0.0001</td>\n",
       "    </tr>\n",
       "  </tbody>\n",
       "</table>\n",
       "</div>"
      ],
      "text/plain": [
       "        LAYER TOP_ELEMENT  Transmissivity  Matrix Compressibility\n",
       "ELEMENT                                                          \n",
       "0        None        None             1.0                  0.0001\n",
       "1        None        None             1.0                  0.0001\n",
       "2        None        None             1.0                  0.0001"
      ]
     },
     "execution_count": 11,
     "metadata": {},
     "output_type": "execute_result"
    }
   ],
   "source": [
    "df_elements= doc.c.mesh.df.elements(par={\"Transmissivity\": ifm.Enum.P_TRANS,\n",
    "                                        \"Matrix Compressibility\" : ifm.Enum.P_COMP})\n",
    "df_elements.head(n=3)"
   ]
  },
  {
   "cell_type": "markdown",
   "metadata": {},
   "source": [
    "**User Distributions and Expressions** \n",
    "\n",
    "In a very similar way, User distributions and Expressions can be queried using the `distr=` and `expr=` parmeters, respectively. Isage is non-exclusive with other queries. The parameter expected is the name of distribution/expression, either as a string or a list of strings if multiple queries are required. Note that dict-style renaming is not implemented yet."
   ]
  },
  {
   "cell_type": "code",
   "execution_count": null,
   "metadata": {
    "ExecuteTime": {
     "end_time": "2021-02-12T17:08:49.280146Z",
     "start_time": "2021-02-12T17:08:49.255122Z"
    }
   },
   "outputs": [
    {
     "data": {
      "text/html": [
       "<div>\n",
       "<style scoped>\n",
       "    .dataframe tbody tr th:only-of-type {\n",
       "        vertical-align: middle;\n",
       "    }\n",
       "\n",
       "    .dataframe tbody tr th {\n",
       "        vertical-align: top;\n",
       "    }\n",
       "\n",
       "    .dataframe thead th {\n",
       "        text-align: right;\n",
       "    }\n",
       "</style>\n",
       "<table border=\"1\" class=\"dataframe\">\n",
       "  <thead>\n",
       "    <tr style=\"text-align: right;\">\n",
       "      <th></th>\n",
       "      <th>ID</th>\n",
       "      <th>Name</th>\n",
       "      <th>user_type</th>\n",
       "      <th>item_type</th>\n",
       "    </tr>\n",
       "  </thead>\n",
       "  <tbody>\n",
       "    <tr>\n",
       "      <th>0</th>\n",
       "      <td>0</td>\n",
       "      <td>elemental_test</td>\n",
       "      <td>DISTRIBUTION</td>\n",
       "      <td>ELEMENTAL</td>\n",
       "    </tr>\n",
       "    <tr>\n",
       "      <th>0</th>\n",
       "      <td>0</td>\n",
       "      <td>nodal_test</td>\n",
       "      <td>DISTRIBUTION</td>\n",
       "      <td>NODAL</td>\n",
       "    </tr>\n",
       "    <tr>\n",
       "      <th>0</th>\n",
       "      <td>0</td>\n",
       "      <td>elemental_expr_test</td>\n",
       "      <td>EXPRESSION</td>\n",
       "      <td>ELEMENTAL</td>\n",
       "    </tr>\n",
       "    <tr>\n",
       "      <th>0</th>\n",
       "      <td>0</td>\n",
       "      <td>nodal_expr_test</td>\n",
       "      <td>EXPRESSION</td>\n",
       "      <td>NODAL</td>\n",
       "    </tr>\n",
       "  </tbody>\n",
       "</table>\n",
       "</div>"
      ],
      "text/plain": [
       "   ID                 Name     user_type  item_type\n",
       "0   0       elemental_test  DISTRIBUTION  ELEMENTAL\n",
       "0   0           nodal_test  DISTRIBUTION      NODAL\n",
       "0   0  elemental_expr_test    EXPRESSION  ELEMENTAL\n",
       "0   0      nodal_expr_test    EXPRESSION      NODAL"
      ]
     },
     "execution_count": 12,
     "metadata": {},
     "output_type": "execute_result"
    }
   ],
   "source": [
    "# Have a quick look at the available user distributions in the model:\n",
    "doc.c.user.df.distributions()"
   ]
  },
  {
   "cell_type": "code",
   "execution_count": null,
   "metadata": {
    "ExecuteTime": {
     "end_time": "2021-02-12T17:08:49.324128Z",
     "start_time": "2021-02-12T17:08:49.283096Z"
    }
   },
   "outputs": [
    {
     "data": {
      "text/html": [
       "<div>\n",
       "<style scoped>\n",
       "    .dataframe tbody tr th:only-of-type {\n",
       "        vertical-align: middle;\n",
       "    }\n",
       "\n",
       "    .dataframe tbody tr th {\n",
       "        vertical-align: top;\n",
       "    }\n",
       "\n",
       "    .dataframe thead th {\n",
       "        text-align: right;\n",
       "    }\n",
       "</style>\n",
       "<table border=\"1\" class=\"dataframe\">\n",
       "  <thead>\n",
       "    <tr style=\"text-align: right;\">\n",
       "      <th></th>\n",
       "      <th>SLICE</th>\n",
       "      <th>TOP_NODE</th>\n",
       "      <th>X</th>\n",
       "      <th>Y</th>\n",
       "      <th>HEAD</th>\n",
       "      <th>nodal_expr_test</th>\n",
       "      <th>nodal_test</th>\n",
       "    </tr>\n",
       "    <tr>\n",
       "      <th>NODE</th>\n",
       "      <th></th>\n",
       "      <th></th>\n",
       "      <th></th>\n",
       "      <th></th>\n",
       "      <th></th>\n",
       "      <th></th>\n",
       "      <th></th>\n",
       "    </tr>\n",
       "  </thead>\n",
       "  <tbody>\n",
       "    <tr>\n",
       "      <th>0</th>\n",
       "      <td>None</td>\n",
       "      <td>None</td>\n",
       "      <td>165.454856</td>\n",
       "      <td>1029.189591</td>\n",
       "      <td>0.0</td>\n",
       "      <td>1.0</td>\n",
       "      <td>1.0</td>\n",
       "    </tr>\n",
       "    <tr>\n",
       "      <th>1</th>\n",
       "      <td>None</td>\n",
       "      <td>None</td>\n",
       "      <td>136.731283</td>\n",
       "      <td>1003.845262</td>\n",
       "      <td>NaN</td>\n",
       "      <td>1.0</td>\n",
       "      <td>1.0</td>\n",
       "    </tr>\n",
       "    <tr>\n",
       "      <th>2</th>\n",
       "      <td>None</td>\n",
       "      <td>None</td>\n",
       "      <td>108.007710</td>\n",
       "      <td>978.500933</td>\n",
       "      <td>NaN</td>\n",
       "      <td>1.0</td>\n",
       "      <td>1.0</td>\n",
       "    </tr>\n",
       "  </tbody>\n",
       "</table>\n",
       "</div>"
      ],
      "text/plain": [
       "     SLICE TOP_NODE           X            Y  HEAD  nodal_expr_test  \\\n",
       "NODE                                                                  \n",
       "0     None     None  165.454856  1029.189591   0.0              1.0   \n",
       "1     None     None  136.731283  1003.845262   NaN              1.0   \n",
       "2     None     None  108.007710   978.500933   NaN              1.0   \n",
       "\n",
       "      nodal_test  \n",
       "NODE              \n",
       "0            1.0  \n",
       "1            1.0  \n",
       "2            1.0  "
      ]
     },
     "execution_count": 13,
     "metadata": {},
     "output_type": "execute_result"
    }
   ],
   "source": [
    "df_nodes = doc.c.mesh.df.nodes(par={\"HEAD\" : ifm.Enum.P_HEAD}, distr=\"nodal_test\", expr=[\"nodal_expr_test\"])\n",
    "df_nodes.head(n=3)"
   ]
  },
  {
   "cell_type": "markdown",
   "metadata": {},
   "source": [
    "**velocity, budget, content, centroids**\n",
    "\n",
    "These methods are also used for computational results that deliver nodal or elemental results, respectively.\n",
    "\n",
    "Additional possible queries are:\n",
    "+ `doc.c.mesh.df.elements(content=Ture)`: Add elemental content components\n",
    "+ `doc.c.mesh.df.elements(centroids=True)`: Add centroid coordinates\n",
    "+ `doc.c.mesh.df.nodes(budget=True)`: Add nodal budget components\n",
    "+ `doc.c.mesh.df.nodes(content=True)`: Add nodal velocity components\n"
   ]
  },
  {
   "cell_type": "markdown",
   "metadata": {},
   "source": [
    "**Filtering by Selection or Layer/Slice, and using GeoPandas**\n",
    "\n",
    "It is possible to filter the output by a certain selection"
   ]
  },
  {
   "cell_type": "code",
   "execution_count": null,
   "metadata": {
    "ExecuteTime": {
     "end_time": "2021-02-12T17:08:51.398848Z",
     "start_time": "2021-02-12T17:08:51.380870Z"
    }
   },
   "outputs": [
    {
     "data": {
      "text/html": [
       "<div>\n",
       "<style scoped>\n",
       "    .dataframe tbody tr th:only-of-type {\n",
       "        vertical-align: middle;\n",
       "    }\n",
       "\n",
       "    .dataframe tbody tr th {\n",
       "        vertical-align: top;\n",
       "    }\n",
       "\n",
       "    .dataframe thead th {\n",
       "        text-align: right;\n",
       "    }\n",
       "</style>\n",
       "<table border=\"1\" class=\"dataframe\">\n",
       "  <thead>\n",
       "    <tr style=\"text-align: right;\">\n",
       "      <th></th>\n",
       "      <th>SLICE</th>\n",
       "      <th>TOP_NODE</th>\n",
       "      <th>X</th>\n",
       "      <th>Y</th>\n",
       "    </tr>\n",
       "    <tr>\n",
       "      <th>NODE</th>\n",
       "      <th></th>\n",
       "      <th></th>\n",
       "      <th></th>\n",
       "      <th></th>\n",
       "    </tr>\n",
       "  </thead>\n",
       "  <tbody>\n",
       "    <tr>\n",
       "      <th>570</th>\n",
       "      <td>None</td>\n",
       "      <td>None</td>\n",
       "      <td>254.321772</td>\n",
       "      <td>533.356754</td>\n",
       "    </tr>\n",
       "    <tr>\n",
       "      <th>430</th>\n",
       "      <td>None</td>\n",
       "      <td>None</td>\n",
       "      <td>380.547981</td>\n",
       "      <td>757.171943</td>\n",
       "    </tr>\n",
       "  </tbody>\n",
       "</table>\n",
       "</div>"
      ],
      "text/plain": [
       "     SLICE TOP_NODE           X           Y\n",
       "NODE                                       \n",
       "570   None     None  254.321772  533.356754\n",
       "430   None     None  380.547981  757.171943"
      ]
     },
     "execution_count": 14,
     "metadata": {},
     "output_type": "execute_result"
    }
   ],
   "source": [
    "doc.c.mesh.df.nodes(selection=\"abstraction_rate\")"
   ]
  },
  {
   "cell_type": "markdown",
   "metadata": {},
   "source": [
    "or by a slice number (`doc.c.mesh.df.nodes(slice=1)` or, respectivel, layer number `doc.c.mesh.df.elements(layer=1)`."
   ]
  },
  {
   "cell_type": "markdown",
   "metadata": {},
   "source": [
    "**Writing Parameter and User Data back to to FEFLOW**\n",
    "\n",
    "ifm_contrib does not provide methods of setting parameter values in FEFLOW, because the classic ifm library allow  vectorized parameter setting using the following functions:\n",
    "\n",
    "+ `doc.setParamValues`\n",
    "+ `doc.setNodalRefDistrValue`\n",
    "+ `doc.setElementalRefDistrValue`\n",
    "\n",
    "The following workflow allows manipulating model data conveniently with pandas using concise code:\n",
    "\n",
    "+ read the existing data (e.g. `df = doc.c.mesh.df.elements(par={\"CONDX\" : ifm.Enum.P_CONDX}`. Make sure to read data from all nodes/elements)\n",
    "+ do the desired operations on the data (e.g., set a new value for a specific selection)\n",
    "+ Use `doc.setParamValues(ifm.Enum.P_CONDX, list(df.CONDX)` to write back the manipulated data in a vectorized fashion."
   ]
  },
  {
   "cell_type": "markdown",
   "metadata": {},
   "source": [
    "### Selections (Items Sets)\n",
    "\n",
    "The methods of the `doc.c.sel` object are facilitating the usage of selections and its items.\n",
    "\n",
    "As opposed to the corresponding functions in standard ifm, selections are called by their given name directly, thus that it is not necessary to make seperate queries for the user distribution id.\n",
    "\n",
    "**Get list of selections**\n",
    "\n",
    "Lets start by checking which selections are in the model. `doc.c.sel.selections()` returns a list."
   ]
  },
  {
   "cell_type": "code",
   "execution_count": null,
   "metadata": {
    "ExecuteTime": {
     "end_time": "2021-02-12T17:08:54.376956Z",
     "start_time": "2021-02-12T17:08:54.370957Z"
    }
   },
   "outputs": [
    {
     "data": {
      "text/plain": [
       "['west', 'east', 'abstraction_rate', 'upper_half', 'conversiontest_el']"
      ]
     },
     "execution_count": 15,
     "metadata": {},
     "output_type": "execute_result"
    }
   ],
   "source": [
    "doc.c.sel.selections()"
   ]
  },
  {
   "cell_type": "markdown",
   "metadata": {},
   "source": [
    "it may be more useful to call the corresponding pandas method, which provides more information:"
   ]
  },
  {
   "cell_type": "code",
   "execution_count": null,
   "metadata": {
    "ExecuteTime": {
     "end_time": "2021-02-12T17:08:55.448257Z",
     "start_time": "2021-02-12T17:08:55.402035Z"
    }
   },
   "outputs": [
    {
     "data": {
      "text/html": [
       "<div>\n",
       "<style scoped>\n",
       "    .dataframe tbody tr th:only-of-type {\n",
       "        vertical-align: middle;\n",
       "    }\n",
       "\n",
       "    .dataframe tbody tr th {\n",
       "        vertical-align: top;\n",
       "    }\n",
       "\n",
       "    .dataframe thead th {\n",
       "        text-align: right;\n",
       "    }\n",
       "</style>\n",
       "<table border=\"1\" class=\"dataframe\">\n",
       "  <thead>\n",
       "    <tr style=\"text-align: right;\">\n",
       "      <th></th>\n",
       "      <th>SEL_TYPE</th>\n",
       "      <th>SEL_ENUM</th>\n",
       "      <th>SEL_ID</th>\n",
       "      <th>N_ITEMS</th>\n",
       "    </tr>\n",
       "    <tr>\n",
       "      <th>selection_name</th>\n",
       "      <th></th>\n",
       "      <th></th>\n",
       "      <th></th>\n",
       "      <th></th>\n",
       "    </tr>\n",
       "  </thead>\n",
       "  <tbody>\n",
       "    <tr>\n",
       "      <th>west</th>\n",
       "      <td>nodes</td>\n",
       "      <td>0</td>\n",
       "      <td>0</td>\n",
       "      <td>20.0</td>\n",
       "    </tr>\n",
       "    <tr>\n",
       "      <th>east</th>\n",
       "      <td>nodes</td>\n",
       "      <td>0</td>\n",
       "      <td>1</td>\n",
       "      <td>12.0</td>\n",
       "    </tr>\n",
       "    <tr>\n",
       "      <th>abstraction_rate</th>\n",
       "      <td>nodes</td>\n",
       "      <td>0</td>\n",
       "      <td>2</td>\n",
       "      <td>2.0</td>\n",
       "    </tr>\n",
       "    <tr>\n",
       "      <th>upper_half</th>\n",
       "      <td>elements</td>\n",
       "      <td>1</td>\n",
       "      <td>0</td>\n",
       "      <td>420.0</td>\n",
       "    </tr>\n",
       "    <tr>\n",
       "      <th>conversiontest_el</th>\n",
       "      <td>elements</td>\n",
       "      <td>1</td>\n",
       "      <td>1</td>\n",
       "      <td>2.0</td>\n",
       "    </tr>\n",
       "  </tbody>\n",
       "</table>\n",
       "</div>"
      ],
      "text/plain": [
       "                   SEL_TYPE  SEL_ENUM SEL_ID  N_ITEMS\n",
       "selection_name                                       \n",
       "west                  nodes         0      0     20.0\n",
       "east                  nodes         0      1     12.0\n",
       "abstraction_rate      nodes         0      2      2.0\n",
       "upper_half         elements         1      0    420.0\n",
       "conversiontest_el  elements         1      1      2.0"
      ]
     },
     "execution_count": 16,
     "metadata": {},
     "output_type": "execute_result"
    }
   ],
   "source": [
    "doc.c.sel.df.selections()"
   ]
  },
  {
   "cell_type": "markdown",
   "metadata": {},
   "source": [
    "**Get item numbers of selections**\n",
    "\n",
    "Using the selection name, we can now query the items using `doc.c.sel.list()` (returns a Python list) or `doc.c.sel.set()` (returns a Python set)."
   ]
  },
  {
   "cell_type": "code",
   "execution_count": null,
   "metadata": {
    "ExecuteTime": {
     "end_time": "2021-02-12T17:08:56.540278Z",
     "start_time": "2021-02-12T17:08:56.534272Z"
    }
   },
   "outputs": [
    {
     "data": {
      "text/plain": [
       "[0, 1, 2, 3, 4, 5, 6, 7, 8, 9, 10, 11, 12, 13, 14, 15, 16, 17, 18, 19]"
      ]
     },
     "execution_count": 17,
     "metadata": {},
     "output_type": "execute_result"
    }
   ],
   "source": [
    "doc.c.sel.list(\"west\")"
   ]
  },
  {
   "cell_type": "markdown",
   "metadata": {},
   "source": [
    "lists are particularly useful to run queries on pandas dataframes:\n",
    "\n",
    "The following example uses `doc.c.mesh.df.elements` to query an element list including the elemental Tranmissivity values, and then uses `doc.c.sel.list` to query only those elements in the \"upper_half\" selection. \n",
    "We finally plot a histogram of the values queried this way:"
   ]
  },
  {
   "cell_type": "code",
   "execution_count": null,
   "metadata": {
    "ExecuteTime": {
     "end_time": "2021-02-12T17:08:57.770881Z",
     "start_time": "2021-02-12T17:08:57.572937Z"
    }
   },
   "outputs": [
    {
     "data": {
      "image/png": "[encoded data removed]",
      "text/plain": [
       "<Figure size 432x288 with 1 Axes>"
      ]
     },
     "metadata": {
      "needs_background": "light"
     },
     "output_type": "display_data"
    }
   ],
   "source": [
    "df_elements = doc.c.mesh.df.elements(par=ifm.Enum.P_TRANS).loc[doc.c.sel.list(\"upper_half\")]\n",
    "df_elements.plot.hist(label=\"Transmissivity\")\n",
    "\n",
    "# OK, let's load the matplotlib to make this figure pretty ...\n",
    "import matplotlib.pyplot as plt\n",
    "#matplotlib inline\n",
    "plt.xlabel(u\"Transmissvity [m²/d]\")\n",
    "plt.ylabel(u\"Number of Elements\")\n",
    "plt.grid()"
   ]
  },
  {
   "cell_type": "markdown",
   "metadata": {},
   "source": [
    "The next examples illustrates how this enables to do calculation with very concise syntax.\n",
    "The line below calculates the water balance for the western border of the model (nodes in selection \"west\"):"
   ]
  },
  {
   "cell_type": "code",
   "execution_count": null,
   "metadata": {
    "ExecuteTime": {
     "end_time": "2021-02-12T17:08:58.629127Z",
     "start_time": "2021-02-12T17:08:58.609123Z"
    }
   },
   "outputs": [
    {
     "data": {
      "text/plain": [
       "-12.45188231530436"
      ]
     },
     "execution_count": 19,
     "metadata": {},
     "output_type": "execute_result"
    }
   ],
   "source": [
    "doc.c.mesh.df.nodes(budget=True).loc[doc.c.sel.list(\"west\")].budget_flow_bc.sum()"
   ]
  },
  {
   "cell_type": "markdown",
   "metadata": {},
   "source": [
    "**Create, clear, update and convert selections**\n",
    "\n",
    "The following functions can replace their standard ifm correspondants, as they allow to work with selection names and item lists more conveniently, they also resemble the context menu options of the Selection Panel of the GUI:\n",
    "\n",
    "+ `doc.c.sel.create` create a selection from a list of elements\n",
    "+ `doc.c.sel.clear` clear the selection\n",
    "+ `doc.c.sel.convert` convert the selection to a different type\n",
    "+ `doc.c.sel.update` set the givn list of items as the new selection\n",
    "\n",
    "The below example creates a new elemental selection with all elements:"
   ]
  },
  {
   "cell_type": "code",
   "execution_count": null,
   "metadata": {
    "ExecuteTime": {
     "end_time": "2021-02-12T17:08:59.651899Z",
     "start_time": "2021-02-12T17:08:59.606901Z"
    }
   },
   "outputs": [
    {
     "data": {
      "text/html": [
       "<div>\n",
       "<style scoped>\n",
       "    .dataframe tbody tr th:only-of-type {\n",
       "        vertical-align: middle;\n",
       "    }\n",
       "\n",
       "    .dataframe tbody tr th {\n",
       "        vertical-align: top;\n",
       "    }\n",
       "\n",
       "    .dataframe thead th {\n",
       "        text-align: right;\n",
       "    }\n",
       "</style>\n",
       "<table border=\"1\" class=\"dataframe\">\n",
       "  <thead>\n",
       "    <tr style=\"text-align: right;\">\n",
       "      <th></th>\n",
       "      <th>SEL_TYPE</th>\n",
       "      <th>SEL_ENUM</th>\n",
       "      <th>SEL_ID</th>\n",
       "      <th>N_ITEMS</th>\n",
       "    </tr>\n",
       "    <tr>\n",
       "      <th>selection_name</th>\n",
       "      <th></th>\n",
       "      <th></th>\n",
       "      <th></th>\n",
       "      <th></th>\n",
       "    </tr>\n",
       "  </thead>\n",
       "  <tbody>\n",
       "    <tr>\n",
       "      <th>west</th>\n",
       "      <td>nodes</td>\n",
       "      <td>0</td>\n",
       "      <td>0</td>\n",
       "      <td>20.0</td>\n",
       "    </tr>\n",
       "    <tr>\n",
       "      <th>east</th>\n",
       "      <td>nodes</td>\n",
       "      <td>0</td>\n",
       "      <td>1</td>\n",
       "      <td>12.0</td>\n",
       "    </tr>\n",
       "    <tr>\n",
       "      <th>abstraction_rate</th>\n",
       "      <td>nodes</td>\n",
       "      <td>0</td>\n",
       "      <td>2</td>\n",
       "      <td>2.0</td>\n",
       "    </tr>\n",
       "    <tr>\n",
       "      <th>upper_half</th>\n",
       "      <td>elements</td>\n",
       "      <td>1</td>\n",
       "      <td>0</td>\n",
       "      <td>420.0</td>\n",
       "    </tr>\n",
       "    <tr>\n",
       "      <th>conversiontest_el</th>\n",
       "      <td>elements</td>\n",
       "      <td>1</td>\n",
       "      <td>1</td>\n",
       "      <td>2.0</td>\n",
       "    </tr>\n",
       "    <tr>\n",
       "      <th>All_Elements</th>\n",
       "      <td>elements</td>\n",
       "      <td>1</td>\n",
       "      <td>2</td>\n",
       "      <td>959.0</td>\n",
       "    </tr>\n",
       "  </tbody>\n",
       "</table>\n",
       "</div>"
      ],
      "text/plain": [
       "                   SEL_TYPE  SEL_ENUM SEL_ID  N_ITEMS\n",
       "selection_name                                       \n",
       "west                  nodes         0      0     20.0\n",
       "east                  nodes         0      1     12.0\n",
       "abstraction_rate      nodes         0      2      2.0\n",
       "upper_half         elements         1      0    420.0\n",
       "conversiontest_el  elements         1      1      2.0\n",
       "All_Elements       elements         1      2    959.0"
      ]
     },
     "execution_count": 20,
     "metadata": {},
     "output_type": "execute_result"
    }
   ],
   "source": [
    "\n",
    "doc.c.sel.create(ifm.Enum.SEL_ELEMENTAL, \"All_Elements\", \n",
    "                 itemlist=range(doc.getNumberOfElements()),\n",
    "                 overwrite_existing=True)\n",
    "doc.c.sel.df.selections()"
   ]
  },
  {
   "cell_type": "markdown",
   "metadata": {},
   "source": [
    "**intersect, add, subtract selections**\n",
    "\n",
    "Set operations as they appear in the GUI are not explicitely implemented (feel free to do so!). Instead, we can use the `doc.c.sel.set` command to retrieve the item numbers as a Python set, which allows to easily perform set operations:"
   ]
  },
  {
   "cell_type": "code",
   "execution_count": null,
   "metadata": {
    "ExecuteTime": {
     "end_time": "2021-02-12T17:09:00.643719Z",
     "start_time": "2021-02-12T17:09:00.637716Z"
    }
   },
   "outputs": [
    {
     "data": {
      "text/plain": [
       "420"
      ]
     },
     "execution_count": 21,
     "metadata": {},
     "output_type": "execute_result"
    }
   ],
   "source": [
    "# intersection\n",
    "len(doc.c.sel.set(\"upper_half\") & doc.c.sel.set(\"All_Elements\"))"
   ]
  },
  {
   "cell_type": "code",
   "execution_count": null,
   "metadata": {
    "ExecuteTime": {
     "end_time": "2021-02-12T17:09:00.663721Z",
     "start_time": "2021-02-12T17:09:00.646719Z"
    }
   },
   "outputs": [
    {
     "data": {
      "text/plain": [
       "959"
      ]
     },
     "execution_count": 22,
     "metadata": {},
     "output_type": "execute_result"
    }
   ],
   "source": [
    "# union\n",
    "len(doc.c.sel.set(\"upper_half\") | doc.c.sel.set(\"All_Elements\"))"
   ]
  },
  {
   "cell_type": "markdown",
   "metadata": {},
   "source": [
    "### Time Series (Output / Histories)\n",
    "\n",
    "Probably one of the most important results from FEFLOW are the history charts, with continuous results on observation points, budgets, etc. This is probably the most heavily used feature when you are using ifm_contrib for postprocessing.\n",
    "\n",
    "**Basic Usage**\n",
    "\n",
    "As time series are best processed using pandas, ifm_contrib provides fast access to all histories in DataFrame through a single method `doc.c.hist.df.history()`. The following example returns a DataFrame of the hydraulic head at the observations points (last 3 entries shown):"
   ]
  },
  {
   "cell_type": "code",
   "execution_count": null,
   "metadata": {
    "ExecuteTime": {
     "end_time": "2021-02-12T17:09:01.738349Z",
     "start_time": "2021-02-12T17:09:01.712074Z"
    }
   },
   "outputs": [
    {
     "data": {
      "text/html": [
       "<div>\n",
       "<style scoped>\n",
       "    .dataframe tbody tr th:only-of-type {\n",
       "        vertical-align: middle;\n",
       "    }\n",
       "\n",
       "    .dataframe tbody tr th {\n",
       "        vertical-align: top;\n",
       "    }\n",
       "\n",
       "    .dataframe thead th {\n",
       "        text-align: right;\n",
       "    }\n",
       "</style>\n",
       "<table border=\"1\" class=\"dataframe\">\n",
       "  <thead>\n",
       "    <tr style=\"text-align: right;\">\n",
       "      <th></th>\n",
       "      <th>myObsPoint1</th>\n",
       "      <th>myObsPoint2</th>\n",
       "      <th>myObsPoint3</th>\n",
       "      <th>1</th>\n",
       "      <th>2</th>\n",
       "    </tr>\n",
       "    <tr>\n",
       "      <th>Simulation Time</th>\n",
       "      <th></th>\n",
       "      <th></th>\n",
       "      <th></th>\n",
       "      <th></th>\n",
       "      <th></th>\n",
       "    </tr>\n",
       "  </thead>\n",
       "  <tbody>\n",
       "    <tr>\n",
       "      <th>9.353301</th>\n",
       "      <td>3.032246</td>\n",
       "      <td>3.161879</td>\n",
       "      <td>4.534319</td>\n",
       "      <td>3.032246</td>\n",
       "      <td>3.161879</td>\n",
       "    </tr>\n",
       "    <tr>\n",
       "      <th>9.977686</th>\n",
       "      <td>3.222012</td>\n",
       "      <td>3.408310</td>\n",
       "      <td>4.723575</td>\n",
       "      <td>3.222012</td>\n",
       "      <td>3.408310</td>\n",
       "    </tr>\n",
       "    <tr>\n",
       "      <th>10.000000</th>\n",
       "      <td>3.228757</td>\n",
       "      <td>3.417063</td>\n",
       "      <td>4.731052</td>\n",
       "      <td>3.228757</td>\n",
       "      <td>3.417063</td>\n",
       "    </tr>\n",
       "  </tbody>\n",
       "</table>\n",
       "</div>"
      ],
      "text/plain": [
       "                 myObsPoint1  myObsPoint2  myObsPoint3         1         2\n",
       "Simulation Time                                                           \n",
       "9.353301            3.032246     3.161879     4.534319  3.032246  3.161879\n",
       "9.977686            3.222012     3.408310     4.723575  3.222012  3.408310\n",
       "10.000000           3.228757     3.417063     4.731052  3.228757  3.417063"
      ]
     },
     "execution_count": 23,
     "metadata": {},
     "output_type": "execute_result"
    }
   ],
   "source": [
    "df_head = doc.c.hist.df.history(ifm.Enum.HIST_HEAD)\n",
    "df_head.tail(n=3)"
   ]
  },
  {
   "cell_type": "markdown",
   "metadata": {},
   "source": [
    "Because this is such a common operation, ifm_contrib also allows a short syntax for this kind of call (however it does not allow any customization shown further below):"
   ]
  },
  {
   "cell_type": "code",
   "execution_count": null,
   "metadata": {
    "ExecuteTime": {
     "end_time": "2021-02-12T17:09:02.704319Z",
     "start_time": "2021-02-12T17:09:02.684322Z"
    }
   },
   "outputs": [
    {
     "data": {
      "text/html": [
       "<div>\n",
       "<style scoped>\n",
       "    .dataframe tbody tr th:only-of-type {\n",
       "        vertical-align: middle;\n",
       "    }\n",
       "\n",
       "    .dataframe tbody tr th {\n",
       "        vertical-align: top;\n",
       "    }\n",
       "\n",
       "    .dataframe thead th {\n",
       "        text-align: right;\n",
       "    }\n",
       "</style>\n",
       "<table border=\"1\" class=\"dataframe\">\n",
       "  <thead>\n",
       "    <tr style=\"text-align: right;\">\n",
       "      <th></th>\n",
       "      <th>myObsPoint1</th>\n",
       "      <th>myObsPoint2</th>\n",
       "      <th>myObsPoint3</th>\n",
       "      <th>1</th>\n",
       "      <th>2</th>\n",
       "    </tr>\n",
       "    <tr>\n",
       "      <th>Simulation Time</th>\n",
       "      <th></th>\n",
       "      <th></th>\n",
       "      <th></th>\n",
       "      <th></th>\n",
       "      <th></th>\n",
       "    </tr>\n",
       "  </thead>\n",
       "  <tbody>\n",
       "    <tr>\n",
       "      <th>9.353301</th>\n",
       "      <td>3.032246</td>\n",
       "      <td>3.161879</td>\n",
       "      <td>4.534319</td>\n",
       "      <td>3.032246</td>\n",
       "      <td>3.161879</td>\n",
       "    </tr>\n",
       "    <tr>\n",
       "      <th>9.977686</th>\n",
       "      <td>3.222012</td>\n",
       "      <td>3.408310</td>\n",
       "      <td>4.723575</td>\n",
       "      <td>3.222012</td>\n",
       "      <td>3.408310</td>\n",
       "    </tr>\n",
       "    <tr>\n",
       "      <th>10.000000</th>\n",
       "      <td>3.228757</td>\n",
       "      <td>3.417063</td>\n",
       "      <td>4.731052</td>\n",
       "      <td>3.228757</td>\n",
       "      <td>3.417063</td>\n",
       "    </tr>\n",
       "  </tbody>\n",
       "</table>\n",
       "</div>"
      ],
      "text/plain": [
       "                 myObsPoint1  myObsPoint2  myObsPoint3         1         2\n",
       "Simulation Time                                                           \n",
       "9.353301            3.032246     3.161879     4.534319  3.032246  3.161879\n",
       "9.977686            3.222012     3.408310     4.723575  3.222012  3.408310\n",
       "10.000000           3.228757     3.417063     4.731052  3.228757  3.417063"
      ]
     },
     "execution_count": 24,
     "metadata": {},
     "output_type": "execute_result"
    }
   ],
   "source": [
    "df_head = doc.c.hist.df.HEAD\n",
    "df_head.tail(n=3)"
   ]
  },
  {
   "cell_type": "markdown",
   "metadata": {},
   "source": [
    "**Simulation Time and Calendar Date**\n",
    "\n",
    "The index of the DataFrame being returned can either be of float type (relate to the simulation time in days - *time axis*) or of datetime type (calendar date - *calendar axis*).\n",
    "\n",
    "Unless you force a time axis (`doc.c.hist.df.history(ifm.Enum.HIST_HEAD, force_time_axis=True)`), ifm_contrib will return a calendar axis if a reference time is set in FEFLOW (can be set in Problem Settings in the GUI, or through the IFM):"
   ]
  },
  {
   "cell_type": "code",
   "execution_count": null,
   "metadata": {
    "ExecuteTime": {
     "end_time": "2021-02-12T17:09:03.911319Z",
     "start_time": "2021-02-12T17:09:03.719320Z"
    }
   },
   "outputs": [
    {
     "data": {
      "text/plain": [
       "<matplotlib.axes._subplots.AxesSubplot at 0x1edc14cc4e0>"
      ]
     },
     "execution_count": 25,
     "metadata": {},
     "output_type": "execute_result"
    },
    {
     "data": {
      "image/png": "[encoded data removed]",
      "text/plain": [
       "<Figure size 432x288 with 1 Axes>"
      ]
     },
     "metadata": {
      "needs_background": "light"
     },
     "output_type": "display_data"
    }
   ],
   "source": [
    "# do the query (no reference date is set in the model at this point)\n",
    "df_time_axis = doc.c.hist.df.history(ifm.Enum.HIST_HEAD)\n",
    "df_time_axis.plot(title=\"with time axis\")"
   ]
  },
  {
   "cell_type": "code",
   "execution_count": null,
   "metadata": {
    "ExecuteTime": {
     "end_time": "2021-02-12T17:09:04.139531Z",
     "start_time": "2021-02-12T17:09:03.914319Z"
    }
   },
   "outputs": [
    {
     "data": {
      "text/plain": [
       "<matplotlib.axes._subplots.AxesSubplot at 0x1edc1577a58>"
      ]
     },
     "execution_count": 26,
     "metadata": {},
     "output_type": "execute_result"
    },
    {
     "data": {
      "image/png": "[encoded data removed]",
      "text/plain": [
       "<Figure size 432x288 with 1 Axes>"
      ]
     },
     "metadata": {
      "needs_background": "light"
     },
     "output_type": "display_data"
    }
   ],
   "source": [
    "# set the reference date\n",
    "from datetime import datetime\n",
    "doc.setReferenceTime(datetime(2020, 5, 1))\n",
    "\n",
    "# repeat the query\n",
    "df_calendar_axis = doc.c.hist.df.history(ifm.Enum.HIST_HEAD)\n",
    "df_calendar_axis.plot(title=\"with calendar axis\")"
   ]
  },
  {
   "cell_type": "markdown",
   "metadata": {},
   "source": [
    "**Sync to a different index**\n",
    "\n",
    "When comparing observation data with simulation results, it is a common necessesity to be able to map the model results onto the observation time index. For convenience, ifm_contrib has an in-built feature for this:"
   ]
  },
  {
   "cell_type": "code",
   "execution_count": null,
   "metadata": {
    "ExecuteTime": {
     "end_time": "2021-02-12T17:09:04.869664Z",
     "start_time": "2021-02-12T17:09:04.859665Z"
    }
   },
   "outputs": [
    {
     "data": {
      "text/plain": [
       "DatetimeIndex(['2020-05-01', '2020-05-02', '2020-05-03', '2020-05-04',\n",
       "               '2020-05-05', '2020-05-06', '2020-05-07', '2020-05-08',\n",
       "               '2020-05-09', '2020-05-10'],\n",
       "              dtype='datetime64[ns]', freq='D')"
      ]
     },
     "execution_count": 27,
     "metadata": {},
     "output_type": "execute_result"
    }
   ],
   "source": [
    "# create a DateTime index with daily time steps\n",
    "import pandas as pd\n",
    "observation_index = pd.date_range(datetime(2020, 5, 1), datetime(2020,5,10), freq=\"D\")\n",
    "observation_index"
   ]
  },
  {
   "cell_type": "code",
   "execution_count": null,
   "metadata": {
    "ExecuteTime": {
     "end_time": "2021-02-12T17:09:04.921950Z",
     "start_time": "2021-02-12T17:09:04.871664Z"
    }
   },
   "outputs": [
    {
     "data": {
      "text/html": [
       "<div>\n",
       "<style scoped>\n",
       "    .dataframe tbody tr th:only-of-type {\n",
       "        vertical-align: middle;\n",
       "    }\n",
       "\n",
       "    .dataframe tbody tr th {\n",
       "        vertical-align: top;\n",
       "    }\n",
       "\n",
       "    .dataframe thead th {\n",
       "        text-align: right;\n",
       "    }\n",
       "</style>\n",
       "<table border=\"1\" class=\"dataframe\">\n",
       "  <thead>\n",
       "    <tr style=\"text-align: right;\">\n",
       "      <th></th>\n",
       "      <th>myObsPoint1</th>\n",
       "      <th>myObsPoint2</th>\n",
       "      <th>myObsPoint3</th>\n",
       "      <th>1</th>\n",
       "      <th>2</th>\n",
       "    </tr>\n",
       "  </thead>\n",
       "  <tbody>\n",
       "    <tr>\n",
       "      <th>2020-05-01</th>\n",
       "      <td>0.000000</td>\n",
       "      <td>0.000000</td>\n",
       "      <td>0.000000</td>\n",
       "      <td>0.000000</td>\n",
       "      <td>0.000000</td>\n",
       "    </tr>\n",
       "    <tr>\n",
       "      <th>2020-05-02</th>\n",
       "      <td>0.221911</td>\n",
       "      <td>-0.014134</td>\n",
       "      <td>0.833540</td>\n",
       "      <td>0.221911</td>\n",
       "      <td>-0.014134</td>\n",
       "    </tr>\n",
       "    <tr>\n",
       "      <th>2020-05-03</th>\n",
       "      <td>0.578335</td>\n",
       "      <td>0.067372</td>\n",
       "      <td>1.665075</td>\n",
       "      <td>0.578335</td>\n",
       "      <td>0.067372</td>\n",
       "    </tr>\n",
       "    <tr>\n",
       "      <th>2020-05-04</th>\n",
       "      <td>0.713917</td>\n",
       "      <td>0.370775</td>\n",
       "      <td>2.251835</td>\n",
       "      <td>0.713917</td>\n",
       "      <td>0.370775</td>\n",
       "    </tr>\n",
       "    <tr>\n",
       "      <th>2020-05-05</th>\n",
       "      <td>0.793745</td>\n",
       "      <td>0.660354</td>\n",
       "      <td>2.637627</td>\n",
       "      <td>0.793745</td>\n",
       "      <td>0.660354</td>\n",
       "    </tr>\n",
       "    <tr>\n",
       "      <th>2020-05-06</th>\n",
       "      <td>1.214472</td>\n",
       "      <td>1.149929</td>\n",
       "      <td>3.176443</td>\n",
       "      <td>1.214472</td>\n",
       "      <td>1.149929</td>\n",
       "    </tr>\n",
       "    <tr>\n",
       "      <th>2020-05-07</th>\n",
       "      <td>1.722414</td>\n",
       "      <td>1.565315</td>\n",
       "      <td>3.576743</td>\n",
       "      <td>1.722414</td>\n",
       "      <td>1.565315</td>\n",
       "    </tr>\n",
       "    <tr>\n",
       "      <th>2020-05-08</th>\n",
       "      <td>2.130138</td>\n",
       "      <td>1.974632</td>\n",
       "      <td>3.896055</td>\n",
       "      <td>2.130138</td>\n",
       "      <td>1.974632</td>\n",
       "    </tr>\n",
       "    <tr>\n",
       "      <th>2020-05-09</th>\n",
       "      <td>2.644993</td>\n",
       "      <td>2.579562</td>\n",
       "      <td>4.225660</td>\n",
       "      <td>2.644993</td>\n",
       "      <td>2.579562</td>\n",
       "    </tr>\n",
       "    <tr>\n",
       "      <th>2020-05-10</th>\n",
       "      <td>2.964601</td>\n",
       "      <td>3.071412</td>\n",
       "      <td>4.477504</td>\n",
       "      <td>2.964601</td>\n",
       "      <td>3.071412</td>\n",
       "    </tr>\n",
       "  </tbody>\n",
       "</table>\n",
       "</div>"
      ],
      "text/plain": [
       "            myObsPoint1  myObsPoint2  myObsPoint3         1         2\n",
       "2020-05-01     0.000000     0.000000     0.000000  0.000000  0.000000\n",
       "2020-05-02     0.221911    -0.014134     0.833540  0.221911 -0.014134\n",
       "2020-05-03     0.578335     0.067372     1.665075  0.578335  0.067372\n",
       "2020-05-04     0.713917     0.370775     2.251835  0.713917  0.370775\n",
       "2020-05-05     0.793745     0.660354     2.637627  0.793745  0.660354\n",
       "2020-05-06     1.214472     1.149929     3.176443  1.214472  1.149929\n",
       "2020-05-07     1.722414     1.565315     3.576743  1.722414  1.565315\n",
       "2020-05-08     2.130138     1.974632     3.896055  2.130138  1.974632\n",
       "2020-05-09     2.644993     2.579562     4.225660  2.644993  2.579562\n",
       "2020-05-10     2.964601     3.071412     4.477504  2.964601  3.071412"
      ]
     },
     "execution_count": 28,
     "metadata": {},
     "output_type": "execute_result"
    }
   ],
   "source": [
    "# then we inject this in\n",
    "df_observation_axis = doc.c.hist.df.history(ifm.Enum.HIST_HEAD, sync_to_index=observation_index)\n",
    "df_observation_axis"
   ]
  },
  {
   "cell_type": "code",
   "execution_count": null,
   "metadata": {
    "ExecuteTime": {
     "end_time": "2021-02-12T17:09:05.191942Z",
     "start_time": "2021-02-12T17:09:04.924950Z"
    }
   },
   "outputs": [
    {
     "data": {
      "text/plain": [
       "<matplotlib.axes._subplots.AxesSubplot at 0x1edc1625710>"
      ]
     },
     "execution_count": 29,
     "metadata": {},
     "output_type": "execute_result"
    },
    {
     "data": {
      "image/png": "[encoded data removed]",
      "text/plain": [
       "<Figure size 432x288 with 1 Axes>"
      ]
     },
     "metadata": {
      "needs_background": "light"
     },
     "output_type": "display_data"
    }
   ],
   "source": [
    "# plot the curves side by side\n",
    "\n",
    "ax1 = df_calendar_axis[[\"myObsPoint1\", \"myObsPoint2\"]].plot(style=\".-\")\n",
    "df_observation_axis[[\"myObsPoint1\", \"myObsPoint2\"]].plot(ax=ax1, style=\"x\", color=\"red\")"
   ]
  },
  {
   "cell_type": "markdown",
   "metadata": {},
   "source": [
    "**Note**: if you find a bug in the code, please put in a ticket on https://github.com/dhi/ifm_contrib/issues. Thank you."
   ]
  },
  {
   "cell_type": "markdown",
   "metadata": {},
   "source": [
    "### Time Series (Input / Power Functions)\n",
    "\n",
    "The main difference between History charts and Time Series (aka power Functions) is that the former ones are synchronous (sharing the same time axis which are the time steps of the simulation run), while the latter one have individual time indices. This is why Time Series and histories are handled somewhat differently.\n",
    "\n",
    "**List of Time Series**\n",
    "\n",
    "ifm_contrib provides a few business functions mainly for convenience. The most important is `doc.c.ts.df.info()` which returns a DataFrame with information of the models time series. (`doc.c.ts.info()` is the equivalent function for vanilla python):"
   ]
  },
  {
   "cell_type": "code",
   "execution_count": null,
   "metadata": {
    "ExecuteTime": {
     "end_time": "2021-02-12T17:09:06.891748Z",
     "start_time": "2021-02-12T17:09:06.876740Z"
    }
   },
   "outputs": [
    {
     "data": {
      "text/html": [
       "<div>\n",
       "<style scoped>\n",
       "    .dataframe tbody tr th:only-of-type {\n",
       "        vertical-align: middle;\n",
       "    }\n",
       "\n",
       "    .dataframe tbody tr th {\n",
       "        vertical-align: top;\n",
       "    }\n",
       "\n",
       "    .dataframe thead th {\n",
       "        text-align: right;\n",
       "    }\n",
       "</style>\n",
       "<table border=\"1\" class=\"dataframe\">\n",
       "  <thead>\n",
       "    <tr style=\"text-align: right;\">\n",
       "      <th></th>\n",
       "      <th>comment</th>\n",
       "      <th>no_point</th>\n",
       "      <th>interpolation_kind</th>\n",
       "      <th>is_cyclic</th>\n",
       "    </tr>\n",
       "    <tr>\n",
       "      <th>tsid</th>\n",
       "      <th></th>\n",
       "      <th></th>\n",
       "      <th></th>\n",
       "      <th></th>\n",
       "    </tr>\n",
       "  </thead>\n",
       "  <tbody>\n",
       "    <tr>\n",
       "      <th>10</th>\n",
       "      <td>weel_A</td>\n",
       "      <td>8</td>\n",
       "      <td>2</td>\n",
       "      <td>False</td>\n",
       "    </tr>\n",
       "    <tr>\n",
       "      <th>11</th>\n",
       "      <td>well B</td>\n",
       "      <td>8</td>\n",
       "      <td>2</td>\n",
       "      <td>False</td>\n",
       "    </tr>\n",
       "    <tr>\n",
       "      <th>20</th>\n",
       "      <td>gap_example</td>\n",
       "      <td>5</td>\n",
       "      <td>2</td>\n",
       "      <td>False</td>\n",
       "    </tr>\n",
       "  </tbody>\n",
       "</table>\n",
       "</div>"
      ],
      "text/plain": [
       "          comment  no_point  interpolation_kind  is_cyclic\n",
       "tsid                                                      \n",
       "10         weel_A         8                   2      False\n",
       "11         well B         8                   2      False\n",
       "20    gap_example         5                   2      False"
      ]
     },
     "execution_count": 30,
     "metadata": {},
     "output_type": "execute_result"
    }
   ],
   "source": [
    "doc.c.ts.df.info()"
   ]
  },
  {
   "cell_type": "markdown",
   "metadata": {},
   "source": [
    "**Content of Time Series**\n",
    "\n",
    "To retrieve the time series itself, use the `doc.c.ts.df.points` method. You can choose the time series by its unique ID or by its comment.\n",
    "\n",
    "**Note 1:** A gap in the time series is denothed by a `NaN` value.\n",
    "\n",
    "**Note 2:** With regard to a time axis or calendar axis, `doc.c.ts.df.points` behaves equivalent to `doc.c.hist.df.history`\n",
    "\n",
    "**WARNING:** If calling by the comment, make sure that this is a unique identifier. ifm_contrib with rise a `RunTimeError` otherwise.\n",
    "\n",
    "\n"
   ]
  },
  {
   "cell_type": "code",
   "execution_count": null,
   "metadata": {
    "ExecuteTime": {
     "end_time": "2021-02-12T17:09:07.889048Z",
     "start_time": "2021-02-12T17:09:07.867050Z"
    }
   },
   "outputs": [
    {
     "data": {
      "text/html": [
       "<div>\n",
       "<style scoped>\n",
       "    .dataframe tbody tr th:only-of-type {\n",
       "        vertical-align: middle;\n",
       "    }\n",
       "\n",
       "    .dataframe tbody tr th {\n",
       "        vertical-align: top;\n",
       "    }\n",
       "\n",
       "    .dataframe thead th {\n",
       "        text-align: right;\n",
       "    }\n",
       "</style>\n",
       "<table border=\"1\" class=\"dataframe\">\n",
       "  <thead>\n",
       "    <tr style=\"text-align: right;\">\n",
       "      <th></th>\n",
       "      <th>Values</th>\n",
       "    </tr>\n",
       "    <tr>\n",
       "      <th>Simulation Time</th>\n",
       "      <th></th>\n",
       "    </tr>\n",
       "  </thead>\n",
       "  <tbody>\n",
       "    <tr>\n",
       "      <th>2020-05-01 00:00:00</th>\n",
       "      <td>0.0</td>\n",
       "    </tr>\n",
       "    <tr>\n",
       "      <th>2020-05-02 00:00:00</th>\n",
       "      <td>1.0</td>\n",
       "    </tr>\n",
       "    <tr>\n",
       "      <th>2020-05-03 00:00:00</th>\n",
       "      <td>2.0</td>\n",
       "    </tr>\n",
       "    <tr>\n",
       "      <th>2020-05-03 12:00:00</th>\n",
       "      <td>NaN</td>\n",
       "    </tr>\n",
       "    <tr>\n",
       "      <th>2020-05-04 00:00:00</th>\n",
       "      <td>3.0</td>\n",
       "    </tr>\n",
       "  </tbody>\n",
       "</table>\n",
       "</div>"
      ],
      "text/plain": [
       "                     Values\n",
       "Simulation Time            \n",
       "2020-05-01 00:00:00     0.0\n",
       "2020-05-02 00:00:00     1.0\n",
       "2020-05-03 00:00:00     2.0\n",
       "2020-05-03 12:00:00     NaN\n",
       "2020-05-04 00:00:00     3.0"
      ]
     },
     "execution_count": 31,
     "metadata": {},
     "output_type": "execute_result"
    }
   ],
   "source": [
    "doc.c.ts.df.points(\"gap_example\")"
   ]
  },
  {
   "cell_type": "code",
   "execution_count": null,
   "metadata": {
    "ExecuteTime": {
     "start_time": "2021-02-12T17:09:07.868Z"
    }
   },
   "outputs": [
    {
     "data": {
      "image/png": "[encoded data removed]",
      "text/plain": [
       "<Figure size 576x288 with 2 Axes>"
      ]
     },
     "metadata": {
      "needs_background": "light"
     },
     "output_type": "display_data"
    }
   ],
   "source": [
    "fig, ax1 = plt.subplots(1, figsize=(8,4))\n",
    "\n",
    "\n",
    "doc.c.hist.df.HEAD.myObsPoint1.plot(ax=ax1, label=\"Observation Point 1\")\n",
    "doc.c.hist.df.HEAD.myObsPoint2.plot(ax=ax1, label=\"Observation Point 2\")\n",
    "\n",
    "ax1b = ax1.twinx()\n",
    "doc.c.ts.df.points(\"well B\").Values.plot(style=\".-\", ax=ax1b, label=\"TimeSeries Pumping Rate\", color=\"red\")\n",
    "ax1.grid()\n",
    "ax1.legend()\n",
    "ax1b.legend(loc=\"upper right\")\n",
    "\n",
    "ax1.set_xlabel(\"\")\n",
    "ax1.set_ylabel(\"Hydraulic head [masl]\")\n",
    "ax1b.set_ylabel(u\"Dewatering Rate [m³/d]\")\n",
    "\n",
    "ax1b.set_ylim(0, 4)\n",
    "\n",
    "plt.savefig(\"highlight_timeseries.png\")\n",
    "\n"
   ]
  },
  {
   "cell_type": "code",
   "execution_count": null,
   "metadata": {
    "ExecuteTime": {
     "start_time": "2021-02-12T17:09:07.875Z"
    }
   },
   "outputs": [],
   "source": [
    "doc.c.ts.df.points(\"well B\")"
   ]
  },
  {
   "cell_type": "markdown",
   "metadata": {},
   "source": [
    "### Observations\n",
    "\n",
    "**Getting a list of observations points**\n",
    "\n",
    "`doc.c.obs.gdf.obspoints` returns the list of obs points as a GeoDataFrame (There is no implementation for Pandas yet - work in progress)."
   ]
  },
  {
   "cell_type": "code",
   "execution_count": null,
   "metadata": {
    "ExecuteTime": {
     "start_time": "2021-02-12T17:09:08.950Z"
    }
   },
   "outputs": [],
   "source": [
    "doc.c.obs.gdf.obspoints()"
   ]
  },
  {
   "cell_type": "markdown",
   "metadata": {},
   "source": [
    "### Plotting\n",
    "\n",
    "While the GUI can render excellent figures from its various views, there is no documented automation option to export figures e.g. in a batch process. Also - in particular when working with Jupyter Notebooks, an in-line visualization is a very usefull feature to visualize results.\n",
    "\n",
    "A plotting feature has therefore been implemented in *ifm_contrib* that generates matplotlib figure for inline visualization or file output. \n",
    "\n",
    "The implementation roughly follows the rationale of the *View Components* panel, where different styles are put on top of each other. ifm_contrib also implements all of FEFLOWs defaults color schemes and makes them available in the matplotlib upon import.\n",
    "\n",
    "An example is shown below:"
   ]
  },
  {
   "cell_type": "code",
   "execution_count": 8,
   "metadata": {
    "ExecuteTime": {
     "start_time": "2021-02-12T17:09:10.008Z"
    }
   },
   "outputs": [
    {
     "ename": "TypeError",
     "evalue": "annotate() missing 1 required positional argument: 'text'",
     "output_type": "error",
     "traceback": [
      "\u001b[1;31m---------------------------------------------------------------------------\u001b[0m",
      "\u001b[1;31mTypeError\u001b[0m                                 Traceback (most recent call last)",
      "Cell \u001b[1;32mIn[8], line 5\u001b[0m\n\u001b[0;32m      2\u001b[0m fig, ax1 \u001b[38;5;241m=\u001b[39m plt\u001b[38;5;241m.\u001b[39msubplots(\u001b[38;5;241m1\u001b[39m, figsize \u001b[38;5;241m=\u001b[39m (\u001b[38;5;241m12\u001b[39m, \u001b[38;5;241m8\u001b[39m))\n\u001b[0;32m      4\u001b[0m doc\u001b[38;5;241m.\u001b[39mc\u001b[38;5;241m.\u001b[39mplot\u001b[38;5;241m.\u001b[39mfaces()\n\u001b[1;32m----> 5\u001b[0m \u001b[43mdoc\u001b[49m\u001b[38;5;241;43m.\u001b[39;49m\u001b[43mc\u001b[49m\u001b[38;5;241;43m.\u001b[39;49m\u001b[43mplot\u001b[49m\u001b[38;5;241;43m.\u001b[39;49m\u001b[43mobs_labels\u001b[49m\u001b[43m(\u001b[49m\u001b[43msize\u001b[49m\u001b[38;5;241;43m=\u001b[39;49m\u001b[38;5;241;43m13\u001b[39;49m\u001b[43m)\u001b[49m\n\u001b[0;32m      6\u001b[0m doc\u001b[38;5;241m.\u001b[39mc\u001b[38;5;241m.\u001b[39mplot\u001b[38;5;241m.\u001b[39mobs_markers(color\u001b[38;5;241m=\u001b[39m\u001b[38;5;124m\"\u001b[39m\u001b[38;5;124mred\u001b[39m\u001b[38;5;124m\"\u001b[39m, alpha\u001b[38;5;241m=\u001b[39m\u001b[38;5;241m1.\u001b[39m)\n\u001b[0;32m      7\u001b[0m doc\u001b[38;5;241m.\u001b[39mc\u001b[38;5;241m.\u001b[39mplot\u001b[38;5;241m.\u001b[39mfringes(par\u001b[38;5;241m=\u001b[39mifm\u001b[38;5;241m.\u001b[39mEnum\u001b[38;5;241m.\u001b[39mP_HEAD)\n",
      "File \u001b[1;32m~\\Sync\\ifm_contrib\\ifm_contrib\\contrib_lib\\plot.py:222\u001b[0m, in \u001b[0;36mPlot.obs_labels\u001b[1;34m(self, attribute, horizontalalignment, filter_by, *args, **kwargs)\u001b[0m\n\u001b[0;32m    <a href='file:///c%3A/Users/renzA/Sync/ifm_contrib/ifm_contrib/contrib_lib/plot.py?line=218'>219</a>\u001b[0m \u001b[39mimport\u001b[39;00m \u001b[39mmatplotlib\u001b[39;00m\u001b[39m.\u001b[39;00m\u001b[39mpyplot\u001b[39;00m \u001b[39mas\u001b[39;00m \u001b[39mplt\u001b[39;00m\n\u001b[0;32m    <a href='file:///c%3A/Users/renzA/Sync/ifm_contrib/ifm_contrib/contrib_lib/plot.py?line=220'>221</a>\u001b[0m \u001b[39mfor\u001b[39;00m i, row \u001b[39min\u001b[39;00m \u001b[39mself\u001b[39m\u001b[39m.\u001b[39mdoc\u001b[39m.\u001b[39mc\u001b[39m.\u001b[39mobs\u001b[39m.\u001b[39mgdf\u001b[39m.\u001b[39mobspoints(filter_by\u001b[39m=\u001b[39mfilter_by)\u001b[39m.\u001b[39miterrows():\n\u001b[1;32m--> <a href='file:///c%3A/Users/renzA/Sync/ifm_contrib/ifm_contrib/contrib_lib/plot.py?line=221'>222</a>\u001b[0m     plt\u001b[39m.\u001b[39mannotate(\u001b[39m*\u001b[39margs, s\u001b[39m=\u001b[39mrow[attribute],\n\u001b[0;32m    <a href='file:///c%3A/Users/renzA/Sync/ifm_contrib/ifm_contrib/contrib_lib/plot.py?line=222'>223</a>\u001b[0m                  xy\u001b[39m=\u001b[39m(row\u001b[39m.\u001b[39mx, row\u001b[39m.\u001b[39my),\n\u001b[0;32m    <a href='file:///c%3A/Users/renzA/Sync/ifm_contrib/ifm_contrib/contrib_lib/plot.py?line=223'>224</a>\u001b[0m                  horizontalalignment\u001b[39m=\u001b[39mhorizontalalignment,\n\u001b[0;32m    <a href='file:///c%3A/Users/renzA/Sync/ifm_contrib/ifm_contrib/contrib_lib/plot.py?line=224'>225</a>\u001b[0m                  \u001b[39m*\u001b[39m\u001b[39m*\u001b[39mkwargs)\n",
      "\u001b[1;31mTypeError\u001b[0m: annotate() missing 1 required positional argument: 'text'"
     ]
    },
    {
     "data": {
      "image/png": "[encoded data removed]",
      "text/plain": [
       "<Figure size 1200x800 with 1 Axes>"
      ]
     },
     "metadata": {},
     "output_type": "display_data"
    }
   ],
   "source": [
    "import matplotlib.pyplot as plt\n",
    "fig, ax1 = plt.subplots(1, figsize = (12, 8))\n",
    "\n",
    "doc.c.plot.faces()\n",
    "doc.c.plot.obs_labels(size=13)\n",
    "doc.c.plot.obs_markers(color=\"red\", alpha=1.)\n",
    "doc.c.plot.fringes(par=ifm.Enum.P_HEAD)"
   ]
  },
  {
   "cell_type": "markdown",
   "metadata": {},
   "source": [
    "currently, the following styles are implemented:\n",
    "\n",
    "**Geometry**\n",
    "+ `doc.c.plot.faces`\n",
    "+ `doc.c.plot.edges`\n",
    "\n",
    "**Plotting model properties**\n",
    "\n",
    "The following styles are adopted to plot distributed data:\n",
    "\n",
    "+ `doc.c.plot.continuous`\n",
    "+ `doc.c.plot.fringes`\n",
    "+ `doc.c.plot.isolines`\n",
    "+ `doc.c.plot.patches`\n",
    "\n",
    "the following attributes are supported:\n",
    "\n",
    "+ `par`, `expr`, `distr`, `velocity`: choose the property to be plotted. The syntax is identical to the `doc.c.mesh.df.nodes` / `doc.c.mesh.df.elements` functions.\n",
    "+ `slice` / `layer`: select the slice or layer number\n",
    "+ `global_cos=True` : set to `False` to plot in local coordinates\n",
    "+ `species`: select the species to be plotted\n",
    "+ **any other keyword argument will be forwarded to the underlying matplotlib.pyplot.plot() function.** See the matplotlib documentation for further information.\n",
    "  + one of the most important arguments for isolines and fringes is the argument `levels`, that lets you choose the isoline / fringes corresponding to the Iso-Tab in the GUI.\n",
    "\n",
    "\n",
    "**Observation Points**\n",
    "+ `doc.c.plot.obs_labels`\n",
    "+ `doc.c.plot.obs_markers`\n"
   ]
  },
  {
   "cell_type": "markdown",
   "metadata": {},
   "source": [
    "**FEFLOW Color Scales**\n",
    "\n",
    "To achieve a FEFLOW GUI look-and-feel, *ifm_contrib* adds the Standard FEFLOW color schemes to the matplotlib pallet. The following command shows all available colorscales that *ifm_contrib* registers:"
   ]
  },
  {
   "cell_type": "code",
   "execution_count": 9,
   "metadata": {
    "ExecuteTime": {
     "start_time": "2021-02-12T17:09:12.156Z"
    }
   },
   "outputs": [
    {
     "data": {
      "image/png": "[encoded data removed]",
      "text/plain": [
       "<Figure size 640x480 with 15 Axes>"
      ]
     },
     "metadata": {},
     "output_type": "display_data"
    }
   ],
   "source": [
    "ifm.colormaps.plot_feflow_colorgradients()"
   ]
  },
  {
   "cell_type": "markdown",
   "metadata": {},
   "source": [
    "Because the plotting methods forward any keywords to the plotting functions of the matplotlib, the `cmap` attribute can be used for using a different color scale."
   ]
  },
  {
   "cell_type": "code",
   "execution_count": 10,
   "metadata": {
    "ExecuteTime": {
     "start_time": "2021-02-12T17:09:13.215Z"
    }
   },
   "outputs": [
    {
     "data": {
      "image/png": "[encoded data removed]",
      "text/plain": [
       "<Figure size 1200x1200 with 4 Axes>"
      ]
     },
     "metadata": {},
     "output_type": "display_data"
    }
   ],
   "source": [
    "fig, ((ax1, ax2), (ax3, ax4)) = plt.subplots(2, 2, figsize = (12, 12))\n",
    "for ax, cmap in [(ax1, \"feflow_rainbow\"),\n",
    "                 (ax2, \"feflow_classic\"),\n",
    "                 (ax3, \"feflow_black_green\"),\n",
    "                 (ax4, \"feflow_blue_green_yellow_red\")]:\n",
    "    plt.sca(ax)\n",
    "    doc.c.plot.faces()\n",
    "    doc.c.plot.fringes(par=ifm.Enum.P_HEAD, cmap=cmap)\n",
    "    plt.title(cmap)"
   ]
  },
  {
   "cell_type": "markdown",
   "metadata": {},
   "source": [
    "# Exporting Plots to Shapefiles\n",
    "\n",
    "Isolines and Fringes can be exported to shapefile. This is done by calling the functions\n",
    "\n",
    "+ `doc.c.plot.gdf.fringes()`\n",
    "+ `doc.c.plot.gdf.isolines()`\n",
    "\n",
    "These functions return a GeoDataFrame, that can then be exported to a shape file easily."
   ]
  },
  {
   "cell_type": "code",
   "execution_count": null,
   "metadata": {
    "ExecuteTime": {
     "start_time": "2021-02-12T17:09:14.343Z"
    }
   },
   "outputs": [],
   "source": [
    "gdf = doc.c.plot.gdf.isolines(par=ifm.Enum.P_HEAD, levels=[1,3,5,7,9])\n",
    "\n",
    "# geopandas requires that attribute headers are converted to strings\n",
    "gdf.columns = [str(c) for c in gdf.columns]\n",
    "\n",
    "gdf.to_file(\"isolines.shp\")\n",
    "gdf"
   ]
  },
  {
   "cell_type": "markdown",
   "metadata": {},
   "source": [
    "**Coordinate Systems**\n",
    "\n",
    "Because FEFLOW models are CRS-naive at this time of writing, geodataframes are by default not georefernenced (and if being saved to a shp-file, no .prj file is written.\n",
    "\n",
    "If assigning the `doc.c.crs` parameter (`None` by default), *ifm_contrib* functions will become CRS-aware and any GeoDataFrames it does export will have a projection to it. Note that this will not be saved with the FEFLOW model, thus it needs to be reassigned everytime after loading the model in ifm_contrib.\n",
    "\n",
    "The CRS must be given as a `pyproj.crs.crs.CRS` object, which can be easily retrieved from an existing shp-file that is CRS-aware:"
   ]
  },
  {
   "cell_type": "code",
   "execution_count": null,
   "metadata": {
    "ExecuteTime": {
     "start_time": "2021-02-12T17:09:15.435Z"
    }
   },
   "outputs": [],
   "source": [
    "# load an existing file with georeference\n",
    "import geopandas as gpd\n",
    "gdf_file = gpd.read_file(\"./sample-shape.shp\")\n",
    "\n",
    "# assign to ifm_contrib\n",
    "doc.c.crs = gdf_file.crs\n",
    "doc.c.crs"
   ]
  }
 ],
 "metadata": {
  "hide_input": false,
  "interpreter": {
   "hash": "20e7167b260304ba78abbed1ee04490e13d13bd72aafa061ef9a655926d7b40e"
  },
  "kernelspec": {
   "display_name": "Python 3.9.15 ('py39_ifm')",
   "language": "python",
   "name": "python3"
  },
  "language_info": {
   "codemirror_mode": {
    "name": "ipython",
    "version": 3
   },
   "file_extension": ".py",
   "mimetype": "text/x-python",
   "name": "python",
   "nbconvert_exporter": "python",
   "pygments_lexer": "ipython3",
   "version": "3.9.15"
  },
  "toc": {
   "nav_menu": {},
   "number_sections": true,
   "sideBar": true,
   "skip_h1_title": true,
   "toc_cell": false,
   "toc_position": {},
   "toc_section_display": "block",
   "toc_window_display": false
  },
  "varInspector": {
   "cols": {
    "lenName": 16,
    "lenType": 16,
    "lenVar": 40
   },
   "kernels_config": {
    "python": {
     "delete_cmd_postfix": "",
     "delete_cmd_prefix": "del ",
     "library": "var_list.py",
     "varRefreshCmd": "print(var_dic_list())"
    },
    "r": {
     "delete_cmd_postfix": ") ",
     "delete_cmd_prefix": "rm(",
     "library": "var_list.r",
     "varRefreshCmd": "cat(var_dic_list()) "
    }
   },
   "types_to_exclude": [
    "module",
    "function",
    "builtin_function_or_method",
    "instance",
    "_Feature"
   ],
   "window_display": false
  }
 },
 "nbformat": 4,
 "nbformat_minor": 2
}
